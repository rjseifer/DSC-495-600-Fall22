{
 "cells": [
  {
   "cell_type": "markdown",
   "metadata": {},
   "source": [
    "[Bag of Words](Bag-of-Words)\n",
    "\n",
    "1. [Idea Behind Bag of Words](#Idea-Behind-Bag-of-Words)   \n",
    "2. [An Aside on Documents](#An-Aside-on-Documents)    \n",
    "3. [Applying Bag of Words to A Collection of Documents](#Applying-Bag-of-Words-to-A-Collection-of-Documents)    \n",
    "4. [Word Frequency Vectors](Word-Frequency-Vectors)\n",
    "\n",
    "\n",
    "# Bag of Words\n",
    "\n",
    "We'll now put all that data cleaning to work to turn text data into mathematical objects. In particular we'll learn about three different types of vectors we can use to analyze text data, all built upon a concept known as bag of words.\n",
    "\n",
    "##  Idea Behind Bag of Words\n",
    "We've come close to bag of words when we looked at Harry Potter and the Prisoner of Azkaban and Harry Potter and the Goblet of Fire. It's more or less a fancy name for our word count dataframes.\n",
    "\n",
    "The idea behind bag of words is that you take all of the words in your document and put them into a bag. Then you pull the words out and count them up.\n",
    "\n",
    "As we've previously discussed this disregards ordering of words, but the same concept can be applied to -grams to create a bag of -grams model.\n",
    "\n",
    "## An Aside on Documents\n",
    "From now on we'll start referring to an observation (think row in a dataframe) of text data to a document. Colloquially the mention of a document may make you think of a single paper for a college or high school english class, but in the realm of NLP a document is more general. For example, an entire book may be a document, or perhaps just a single sentence or paragraph of the book. Other examples may include text messages, emails, tweets and vaccuum repair manuals.\n",
    "\n",
    "## Applying Bag of Words to A Collection of Documents\n",
    "So far we've made a bag of words vector for a single document, there is a slight difference when workinig with a collection of documents. Let's return to the excerpt from [IMDB Dataset of 50K Movie Reviews](https://www.kaggle.com/datasets/lakshmi25npathi/imdb-dataset-of-50k-movie-reviews?select=IMDB+Dataset.csv)  `IMDB Dataset.csv`.   \n",
    "\n",
    "I have reduced it into a smaller one called `Movie_Review.csv`"
   ]
  },
  {
   "cell_type": "code",
   "execution_count": 1,
   "metadata": {},
   "outputs": [],
   "source": [
    "import pandas as pd\n",
    "import numpy as np\n",
    "\n",
    "# we'll use this for the spam messages\n",
    "from nltk.tokenize import TweetTokenizer\n",
    "from nltk import ngrams"
   ]
  },
  {
   "cell_type": "code",
   "execution_count": 2,
   "metadata": {},
   "outputs": [],
   "source": [
    "df = pd.read_csv('Movie_Review.csv')\n",
    "#df = pd.read_csv('IMDB Dataset.csv')"
   ]
  },
  {
   "cell_type": "code",
   "execution_count": 3,
   "metadata": {},
   "outputs": [
    {
     "data": {
      "text/plain": [
       "Index(['review', 'sentiment'], dtype='object')"
      ]
     },
     "execution_count": 3,
     "metadata": {},
     "output_type": "execute_result"
    }
   ],
   "source": [
    "df.columns"
   ]
  },
  {
   "cell_type": "code",
   "execution_count": 4,
   "metadata": {},
   "outputs": [
    {
     "data": {
      "text/plain": [
       "positive    501\n",
       "negative    499\n",
       "Name: sentiment, dtype: int64"
      ]
     },
     "execution_count": 4,
     "metadata": {},
     "output_type": "execute_result"
    }
   ],
   "source": [
    "df['sentiment'].value_counts()"
   ]
  },
  {
   "cell_type": "markdown",
   "metadata": {},
   "source": [
    "### Step 1 - Turn Negative/Positive into 0/1\n",
    "\n",
    "Turn the label 'Negative' or 'Positive' into a 0 or a 1. Here 0 should mean the review was 'Negative', while a 1 should mean the review was 'Positive\". "
   ]
  },
  {
   "cell_type": "code",
   "execution_count": 5,
   "metadata": {},
   "outputs": [],
   "source": [
    "df.loc[df.sentiment == \"positive\",'coding'] = 1\n",
    "df.loc[df.sentiment == \"negative\",'coding'] = 0\n",
    "\n",
    "df_train = df.sample(frac=.8,random_state = 123).copy()\n",
    "df_test = df.drop(df_train.index).copy()"
   ]
  },
  {
   "cell_type": "code",
   "execution_count": 6,
   "metadata": {},
   "outputs": [
    {
     "data": {
      "text/html": [
       "<div>\n",
       "<style scoped>\n",
       "    .dataframe tbody tr th:only-of-type {\n",
       "        vertical-align: middle;\n",
       "    }\n",
       "\n",
       "    .dataframe tbody tr th {\n",
       "        vertical-align: top;\n",
       "    }\n",
       "\n",
       "    .dataframe thead th {\n",
       "        text-align: right;\n",
       "    }\n",
       "</style>\n",
       "<table border=\"1\" class=\"dataframe\">\n",
       "  <thead>\n",
       "    <tr style=\"text-align: right;\">\n",
       "      <th></th>\n",
       "      <th>review</th>\n",
       "      <th>sentiment</th>\n",
       "      <th>coding</th>\n",
       "    </tr>\n",
       "  </thead>\n",
       "  <tbody>\n",
       "    <tr>\n",
       "      <th>0</th>\n",
       "      <td>One of the other reviewers has mentioned that ...</td>\n",
       "      <td>positive</td>\n",
       "      <td>1.0</td>\n",
       "    </tr>\n",
       "    <tr>\n",
       "      <th>1</th>\n",
       "      <td>A wonderful little production. &lt;br /&gt;&lt;br /&gt;The...</td>\n",
       "      <td>positive</td>\n",
       "      <td>1.0</td>\n",
       "    </tr>\n",
       "    <tr>\n",
       "      <th>2</th>\n",
       "      <td>I thought this was a wonderful way to spend ti...</td>\n",
       "      <td>positive</td>\n",
       "      <td>1.0</td>\n",
       "    </tr>\n",
       "    <tr>\n",
       "      <th>3</th>\n",
       "      <td>Basically there's a family where a little boy ...</td>\n",
       "      <td>negative</td>\n",
       "      <td>0.0</td>\n",
       "    </tr>\n",
       "    <tr>\n",
       "      <th>4</th>\n",
       "      <td>Petter Mattei's \"Love in the Time of Money\" is...</td>\n",
       "      <td>positive</td>\n",
       "      <td>1.0</td>\n",
       "    </tr>\n",
       "  </tbody>\n",
       "</table>\n",
       "</div>"
      ],
      "text/plain": [
       "                                              review sentiment  coding\n",
       "0  One of the other reviewers has mentioned that ...  positive     1.0\n",
       "1  A wonderful little production. <br /><br />The...  positive     1.0\n",
       "2  I thought this was a wonderful way to spend ti...  positive     1.0\n",
       "3  Basically there's a family where a little boy ...  negative     0.0\n",
       "4  Petter Mattei's \"Love in the Time of Money\" is...  positive     1.0"
      ]
     },
     "execution_count": 6,
     "metadata": {},
     "output_type": "execute_result"
    }
   ],
   "source": [
    "df.head()"
   ]
  },
  {
   "cell_type": "markdown",
   "metadata": {},
   "source": [
    "Now let's look into making a word count vector for the first two messages in the training set."
   ]
  },
  {
   "cell_type": "code",
   "execution_count": 7,
   "metadata": {},
   "outputs": [],
   "source": [
    "## define functions\n",
    "# make the tokenizer object\n",
    "tokenizer = TweetTokenizer()\n",
    "\n",
    "# make word counts\n",
    "def get_word_counts(tokens):\n",
    "    word_dict = {}\n",
    "    \n",
    "    for word in tokens:\n",
    "        if word in word_dict.keys():\n",
    "            word_dict[word] = word_dict[word] + 1\n",
    "        else:\n",
    "            word_dict[word] = 1\n",
    "            \n",
    "    return pd.DataFrame({'word': word_dict.keys(),\n",
    "                            'times_counted': word_dict.values()})"
   ]
  },
  {
   "cell_type": "code",
   "execution_count": 8,
   "metadata": {},
   "outputs": [
    {
     "name": "stdout",
     "output_type": "stream",
     "text": [
      "message 1\n",
      "        word  times_counted\n",
      "0    luckily              1\n",
      "1        for              1\n",
      "2       bill              2\n",
      "3     murray              7\n",
      "4       this              5\n",
      "..       ...            ...\n",
      "245  feldman              1\n",
      "246        8              1\n",
      "247       10              1\n",
      "248    stars              1\n",
      "249    hound              1\n",
      "\n",
      "[250 rows x 2 columns]\n",
      "\n",
      "\n",
      "message 2\n",
      "           word  times_counted\n",
      "0             i              3\n",
      "1    absolutely              1\n",
      "2          love              1\n",
      "3          this              3\n",
      "4          film              1\n",
      "5             .              6\n",
      "6    everything              1\n",
      "7         about              1\n",
      "8            it              2\n",
      "9        almost              1\n",
      "10         felt              1\n",
      "11         like              2\n",
      "12     watching              1\n",
      "13           me              1\n",
      "14          and              3\n",
      "15           my              1\n",
      "16      friends              1\n",
      "17           on              1\n",
      "18       screen              1\n",
      "19          the              2\n",
      "20          way              1\n",
      "21        movie              2\n",
      "22          was              2\n",
      "23       filmed              1\n",
      "24            a              1\n",
      "25         pure              1\n",
      "26  masterpiece              1\n",
      "27            ,              1\n",
      "28         very              1\n",
      "29     original              1\n",
      "30     creative              1\n",
      "31      related              1\n",
      "32           to              1\n",
      "33        these              1\n",
      "34   characters              1\n",
      "35         even              1\n",
      "36          had              1\n",
      "37         same              1\n",
      "38     thoughts              1\n",
      "39           as              1\n",
      "40         some              1\n",
      "41          i'm              1\n",
      "42       really              1\n",
      "43         glad              1\n",
      "44          ran              1\n",
      "45       across              1\n",
      "46           if              1\n",
      "47         only              1\n",
      "48        there              2\n",
      "49         were              1\n",
      "50         more              1\n",
      "51       genius              1\n",
      "52            '              1\n",
      "53       justin              1\n",
      "54          out              1\n",
      "55            !              1\n"
     ]
    }
   ],
   "source": [
    "## get tokens\n",
    "df_train['review_lower'] = df_train.review.str.lower()\n",
    "df_train['tokens'] = df_train['review_lower'].apply(tokenizer.tokenize)\n",
    "\n",
    "## get the first two reviews\n",
    "rev_tokens_1 = list(df_train.tokens.values)[0]\n",
    "rev_tokens_2 = list(df_train.tokens.values)[1]\n",
    "\n",
    "print(\"message 1\")\n",
    "print(get_word_counts(rev_tokens_1))\n",
    "\n",
    "print()\n",
    "print()\n",
    "\n",
    "print(\"message 2\")\n",
    "print(get_word_counts(rev_tokens_2))"
   ]
  },
  {
   "cell_type": "code",
   "execution_count": 9,
   "metadata": {},
   "outputs": [
    {
     "data": {
      "text/plain": [
       "131    [luckily, for, bill, murray, this, is, such, a...\n",
       "203    [i, absolutely, love, this, film, ., everythin...\n",
       "50     [return, to, the, 36th, chamber, is, one, of, ...\n",
       "585    [a, drifter, looking, for, a, job, is, mistake...\n",
       "138    [i, just, watched, this, movie, on, it's, prem...\n",
       "                             ...                        \n",
       "197    [scotty, (, grant, cramer, ,, who, would, go, ...\n",
       "215    [this, movie, is, without, a, doubt, a, perfec...\n",
       "750    [i, was, surprised, that, \", forgiving, the, f...\n",
       "841    [well, ..., now, that, i, know, where, rob, zo...\n",
       "992    [big, fat, liar, is, what, you, get, when, you...\n",
       "Name: tokens, Length: 800, dtype: object"
      ]
     },
     "execution_count": 9,
     "metadata": {},
     "output_type": "execute_result"
    }
   ],
   "source": [
    "df_train['tokens']"
   ]
  },
  {
   "cell_type": "code",
   "execution_count": 10,
   "metadata": {
    "scrolled": false
   },
   "outputs": [
    {
     "name": "stdout",
     "output_type": "stream",
     "text": [
      "luckily\n",
      "for\n",
      "bill\n",
      "murray\n",
      "this\n",
      "is\n",
      "such\n",
      "a\n",
      "light-weight\n",
      "project\n",
      "since\n",
      "he\n",
      "pretty\n",
      "much\n",
      "has\n",
      "to\n",
      "carry\n",
      "it\n",
      ".\n",
      "meatballs\n",
      "is\n",
      "is\n",
      "the\n",
      "story\n",
      "of\n",
      "low-rent\n",
      "camp\n",
      "northstar\n",
      "and\n",
      "how\n",
      "its\n",
      "counselors\n",
      "deal\n",
      "with\n",
      "the\n",
      "the\n",
      "campers\n",
      "as\n",
      "well\n",
      "as\n",
      "as\n",
      "one\n",
      "another\n",
      ".\n",
      ".\n",
      "then\n",
      "there\n",
      "is\n",
      "is\n",
      "much\n",
      "much\n",
      "made\n",
      "of\n",
      "of\n",
      "their\n",
      "wealthy\n",
      "rivals\n",
      "from\n",
      "across\n",
      "the\n",
      "the\n",
      "lake\n",
      "named\n",
      "camp\n",
      "camp\n",
      "mohawk\n",
      "which\n",
      "culminates\n",
      "in\n",
      "a\n",
      "a\n",
      "two-day\n",
      "olympiad\n",
      "competition\n",
      ".\n",
      ".\n",
      "above\n",
      "it\n",
      "it\n",
      "all\n",
      "is\n",
      "is\n",
      "bill\n",
      "bill\n",
      "murray\n",
      "murray\n",
      "clowning\n",
      "around\n",
      "and\n",
      "and\n",
      "making\n",
      "a\n",
      "a\n",
      "pretty\n",
      "pretty\n",
      "memorable\n",
      "film\n",
      "debut\n",
      ".\n",
      ".\n",
      "<\n",
      "br\n",
      "/\n",
      ">\n",
      "<\n",
      "<\n",
      "br\n",
      "br\n",
      "/\n",
      "/\n",
      ">\n",
      ">\n",
      "the\n",
      "the\n",
      "film\n",
      "film\n",
      "is\n",
      "is\n",
      "sprinkled\n",
      "with\n",
      "with\n",
      "medium-sized\n",
      "laughs\n",
      ",\n",
      "chuckles\n",
      ",\n",
      ",\n",
      "and\n",
      "and\n",
      "more\n",
      "than\n",
      "a\n",
      "a\n",
      "few\n",
      "guffaws\n",
      "along\n",
      "the\n",
      "the\n",
      "way\n",
      ".\n",
      ".\n",
      "the\n",
      "the\n",
      "biggest\n",
      "laughs\n",
      "laughs\n",
      "come\n",
      "from\n",
      "from\n",
      "the\n",
      "the\n",
      "pranks\n",
      "played\n",
      "on\n",
      "the\n",
      "the\n",
      "nerdy\n",
      "camp\n",
      "camp\n",
      "director\n",
      ".\n",
      ".\n",
      "three\n",
      "of\n",
      "of\n",
      "them\n",
      "involve\n",
      "the\n",
      "the\n",
      "counselors\n",
      "counselors\n",
      "moving\n",
      "his\n",
      "bed\n",
      "outside\n",
      "in\n",
      "in\n",
      "various\n",
      "locations\n",
      "while\n",
      "he's\n",
      "sleeping\n",
      ".\n",
      ".\n",
      "morty\n",
      ",\n",
      ",\n",
      "or\n",
      "\"\n",
      "micky\n",
      "\"\n",
      "\"\n",
      "as\n",
      "as\n",
      "everyone\n",
      "calls\n",
      "him\n",
      ",\n",
      ",\n",
      "wakes\n",
      "up\n",
      "along\n",
      "along\n",
      "the\n",
      "the\n",
      "side\n",
      "of\n",
      "of\n",
      "a\n",
      "a\n",
      "road\n",
      ",\n",
      ",\n",
      "strung\n",
      "up\n",
      "up\n",
      "in\n",
      "in\n",
      "some\n",
      "trees\n",
      "several\n",
      "feet\n",
      "above\n",
      "above\n",
      "the\n",
      "the\n",
      "ground\n",
      ",\n",
      ",\n",
      "and\n",
      "and\n",
      "finally\n",
      "floating\n",
      "on\n",
      "on\n",
      "a\n",
      "a\n",
      "raft\n",
      "in\n",
      "in\n",
      "the\n",
      "the\n",
      "middle\n",
      "of\n",
      "of\n",
      "the\n",
      "the\n",
      "lake\n",
      "lake\n",
      "!\n",
      "there\n",
      "there\n",
      "are\n",
      "also\n",
      "some\n",
      "some\n",
      "funny\n",
      "moments\n",
      "involving\n",
      "the\n",
      "the\n",
      "counselors\n",
      "counselors\n",
      "hitting\n",
      "on\n",
      "on\n",
      "one\n",
      "one\n",
      "another\n",
      "another\n",
      ",\n",
      ",\n",
      "but\n",
      "this\n",
      "this\n",
      "is\n",
      "is\n",
      "a\n",
      "a\n",
      "pg\n",
      "rated\n",
      "film\n",
      "film\n",
      "with\n",
      "with\n",
      "little\n",
      "in\n",
      "in\n",
      "the\n",
      "the\n",
      "way\n",
      "way\n",
      "of\n",
      "of\n",
      "raunchiness\n",
      ".\n",
      ".\n",
      "<\n",
      "<\n",
      "br\n",
      "br\n",
      "/\n",
      "/\n",
      ">\n",
      ">\n",
      "<\n",
      "<\n",
      "br\n",
      "br\n",
      "/\n",
      "/\n",
      ">\n",
      ">\n",
      "the\n",
      "the\n",
      "film\n",
      "film\n",
      "takes\n",
      "a\n",
      "a\n",
      "serious\n",
      "note\n",
      "involving\n",
      "involving\n",
      "a\n",
      "a\n",
      "shy\n",
      "camper\n",
      "named\n",
      "named\n",
      "rudy\n",
      "who\n",
      "is\n",
      "is\n",
      "played\n",
      "played\n",
      "by\n",
      "chris\n",
      "makepeace\n",
      ".\n",
      ".\n",
      "of\n",
      "of\n",
      "course\n",
      "it's\n",
      "up\n",
      "up\n",
      "to\n",
      "to\n",
      "murray\n",
      "murray\n",
      "to\n",
      "to\n",
      "teach\n",
      "the\n",
      "the\n",
      "kid\n",
      "how\n",
      "how\n",
      "to\n",
      "to\n",
      "open\n",
      "up\n",
      "up\n",
      ",\n",
      ",\n",
      "and\n",
      "and\n",
      "give\n",
      "him\n",
      "him\n",
      "the\n",
      "the\n",
      "confidence\n",
      "he\n",
      "he\n",
      "needs\n",
      "to\n",
      "to\n",
      "run\n",
      "a\n",
      "a\n",
      "marathon\n",
      "during\n",
      "the\n",
      "the\n",
      "olympiad\n",
      "olympiad\n",
      ".\n",
      ".\n",
      "the\n",
      "the\n",
      "sentimentality\n",
      "of\n",
      "of\n",
      "rudy's\n",
      "situation\n",
      "seems\n",
      "tacked\n",
      "on\n",
      "on\n",
      "to\n",
      "to\n",
      "a\n",
      "a\n",
      "great\n",
      "degree\n",
      ".\n",
      ".\n",
      "notice\n",
      "how\n",
      "how\n",
      "when\n",
      "murray\n",
      "murray\n",
      "first\n",
      "sees\n",
      "the\n",
      "the\n",
      "kid\n",
      "kid\n",
      "sitting\n",
      "alone\n",
      "in\n",
      "in\n",
      "the\n",
      "the\n",
      "grass\n",
      "after\n",
      "getting\n",
      "off\n",
      "the\n",
      "the\n",
      "bus\n",
      "he\n",
      "he\n",
      "tells\n",
      "him\n",
      "him\n",
      ",\n",
      ",\n",
      "\"\n",
      "\"\n",
      "you\n",
      "must\n",
      "be\n",
      "the\n",
      "the\n",
      "short\n",
      "depressed\n",
      "kid\n",
      "kid\n",
      "we\n",
      "ordered\n",
      ".\n",
      ".\n",
      "\"\n",
      "\"\n",
      "makes\n",
      "you\n",
      "you\n",
      "wonder\n",
      "if\n",
      "that\n",
      "line\n",
      "was\n",
      "really\n",
      "in\n",
      "in\n",
      "the\n",
      "the\n",
      "script\n",
      "or\n",
      "or\n",
      "murray\n",
      "murray\n",
      "was\n",
      "was\n",
      "just\n",
      "ad-libbing\n",
      "while\n",
      "while\n",
      "the\n",
      "the\n",
      "cameras\n",
      "were\n",
      "rolling\n",
      ".\n",
      ".\n",
      "in\n",
      "in\n",
      "other\n",
      "words\n",
      ",\n",
      ",\n",
      "murray\n",
      "murray\n",
      "might\n",
      "as\n",
      "as\n",
      "well\n",
      "well\n",
      "have\n",
      "said\n",
      "to\n",
      "to\n",
      "makepeace\n",
      "makepeace\n",
      ",\n",
      ",\n",
      "\"\n",
      "\"\n",
      "you\n",
      "you\n",
      "must\n",
      "must\n",
      "be\n",
      "be\n",
      "that\n",
      "that\n",
      "actor\n",
      "we\n",
      "we\n",
      "hired\n",
      "to\n",
      "to\n",
      "play\n",
      "the\n",
      "the\n",
      "stereotypical\n",
      "lonely\n",
      "kid\n",
      "kid\n",
      "you\n",
      "you\n",
      "see\n",
      "in\n",
      "in\n",
      "most\n",
      "summer\n",
      "camp\n",
      "camp\n",
      "films\n",
      "who\n",
      "who\n",
      "doesn't\n",
      "fit\n",
      "in\n",
      "in\n",
      ".\n",
      ".\n",
      "\"\n",
      "\"\n",
      "but\n",
      "but\n",
      "before\n",
      "it's\n",
      "it's\n",
      "all\n",
      "all\n",
      "over\n",
      ",\n",
      ",\n",
      "murray's\n",
      "performance\n",
      "makes\n",
      "makes\n",
      "this\n",
      "this\n",
      "plot\n",
      "device\n",
      "more\n",
      "more\n",
      "than\n",
      "than\n",
      "bearable\n",
      ".\n",
      ".\n",
      "he\n",
      "he\n",
      "really\n",
      "really\n",
      "seems\n",
      "seems\n",
      "to\n",
      "to\n",
      "have\n",
      "have\n",
      "some\n",
      "some\n",
      "good\n",
      "chemistry\n",
      "with\n",
      "with\n",
      "makepeace\n",
      "makepeace\n",
      ".\n",
      ".\n",
      "<\n",
      "<\n",
      "br\n",
      "br\n",
      "/\n",
      "/\n",
      ">\n",
      ">\n",
      "<\n",
      "<\n",
      "br\n",
      "br\n",
      "/\n",
      "/\n",
      ">\n",
      ">\n",
      "the\n",
      "the\n",
      "film\n",
      "film\n",
      "culminates\n",
      "culminates\n",
      "with\n",
      "with\n",
      "the\n",
      "the\n",
      "games\n",
      "between\n",
      "the\n",
      "the\n",
      "two\n",
      "rival\n",
      "camps\n",
      ".\n",
      ".\n",
      "very\n",
      "little\n",
      "little\n",
      "of\n",
      "of\n",
      "the\n",
      "the\n",
      "events\n",
      "we\n",
      "we\n",
      "are\n",
      "are\n",
      "shown\n",
      "are\n",
      "are\n",
      "even\n",
      "slightly\n",
      "believable\n",
      ",\n",
      ",\n",
      "but\n",
      "but\n",
      "\"\n",
      "\"\n",
      "it\n",
      "it\n",
      "just\n",
      "just\n",
      "doesn't\n",
      "doesn't\n",
      "matter\n",
      "\"\n",
      "\"\n",
      ".\n",
      ".\n",
      "this\n",
      "this\n",
      "is\n",
      "is\n",
      "a\n",
      "a\n",
      "pretty\n",
      "pretty\n",
      "good\n",
      "good\n",
      "film\n",
      "film\n",
      "on\n",
      "on\n",
      "many\n",
      "levels\n",
      ".\n",
      ".\n",
      "don't\n",
      "let\n",
      "the\n",
      "the\n",
      "absurd\n",
      "5.6\n",
      "rating\n",
      "this\n",
      "this\n",
      "film\n",
      "film\n",
      "is\n",
      "is\n",
      "currently\n",
      "getting\n",
      "getting\n",
      "scare\n",
      "you\n",
      "you\n",
      "off\n",
      "off\n",
      ".\n",
      ".\n",
      "murray\n",
      "murray\n",
      "will\n",
      "keep\n",
      "you\n",
      "you\n",
      "laughing\n",
      "throughout\n",
      ".\n",
      ".\n",
      "just\n",
      "just\n",
      "be\n",
      "be\n",
      "warned\n",
      "...\n",
      "avoid\n",
      "the\n",
      "the\n",
      "sequels\n",
      "!\n",
      "!\n",
      "!\n",
      "!\n",
      "!\n",
      "!\n",
      "especially\n",
      "the\n",
      "the\n",
      "one\n",
      "one\n",
      "with\n",
      "with\n",
      "corey\n",
      "feldman\n",
      "!\n",
      "!\n",
      "!\n",
      "!\n",
      "8\n",
      "of\n",
      "of\n",
      "10\n",
      "stars\n",
      ".\n",
      ".\n",
      "<\n",
      "<\n",
      "br\n",
      "br\n",
      "/\n",
      "/\n",
      ">\n",
      ">\n",
      "<\n",
      "<\n",
      "br\n",
      "br\n",
      "/\n",
      "/\n",
      ">\n",
      ">\n",
      "the\n",
      "the\n",
      "hound\n",
      ".\n",
      ".\n"
     ]
    }
   ],
   "source": [
    "word_dict = {}\n",
    "\n",
    "for word in list(df_train.tokens.values)[0]:\n",
    "    print(word)\n",
    "    if word in word_dict.keys():\n",
    "        print(word)\n",
    "        word_dict[word] = word_dict[word] + 1\n",
    "    else:\n",
    "        word_dict[word] = 1\n",
    "\n"
   ]
  },
  {
   "cell_type": "markdown",
   "metadata": {},
   "source": [
    "How would we compare these two vectors? They are two completely different dimensions and are not in vector spaces spanned by the same basis.\n",
    "\n",
    "This is where the subtle difference comes into play. When making a bag of words vector model of the documents we first need to collect all of the unique words that occur accross all documents of the corpus (collection of documents). These unique words then correspond to a basis vector in the bag of words vector space.\n",
    "\n",
    "Let's look at the first two messages bag of word vectors.\n",
    "\n"
   ]
  },
  {
   "cell_type": "code",
   "execution_count": 11,
   "metadata": {},
   "outputs": [],
   "source": [
    "# This will take in a dataframe of \"words\" (note ngrams will work as well)\n",
    "# and return a list of the unique words, which forms the basis\n",
    "def get_bow_basis(df,column_name):\n",
    "    basis_set = []\n",
    "    \n",
    "    for i in df.index:\n",
    "        for word in df[column_name][i]:\n",
    "            basis_set.append(word)\n",
    "            \n",
    "    return np.array(list(set(basis_set)))\n",
    "\n",
    "## This will take in a basis set and a message's tokens\n",
    "## and return the bow numpy array (vector)\n",
    "def get_bow_vector(tokens, basis_set):\n",
    "    vector = np.zeros(len(basis_set))\n",
    "    \n",
    "    for word in tokens:\n",
    "        # Note this is here for when we look at the test set\n",
    "        if word in basis_set:\n",
    "            vector[basis_set == word] = vector[basis_set == word] + 1\n",
    "        \n",
    "    return vector"
   ]
  },
  {
   "cell_type": "code",
   "execution_count": 12,
   "metadata": {},
   "outputs": [],
   "source": [
    "basis_set = get_bow_basis(df_train,'tokens')"
   ]
  },
  {
   "cell_type": "code",
   "execution_count": 13,
   "metadata": {},
   "outputs": [
    {
     "data": {
      "text/plain": [
       "array(['youth', 'customers', 'actress', ..., 'interaction',\n",
       "       'inaccurately', 'gnawed'], dtype='<U60')"
      ]
     },
     "execution_count": 13,
     "metadata": {},
     "output_type": "execute_result"
    }
   ],
   "source": [
    "basis_set"
   ]
  },
  {
   "cell_type": "code",
   "execution_count": 14,
   "metadata": {},
   "outputs": [
    {
     "name": "stdout",
     "output_type": "stream",
     "text": [
      "review 1 [0. 0. 0. ... 0. 0. 0.]\n",
      "\n",
      "review 2 [0. 0. 0. ... 0. 0. 0.]\n"
     ]
    }
   ],
   "source": [
    "print(\"review 1\", get_bow_vector(rev_tokens_1, basis_set))\n",
    "print()\n",
    "print(\"review 2\", get_bow_vector(rev_tokens_2, basis_set))"
   ]
  },
  {
   "cell_type": "markdown",
   "metadata": {},
   "source": [
    "### You Code\n",
    "Make a np.array that records the bow vector for each of the documents in the training set. Each row of the array should represent a document, and each column one of the entries of the basis set. Note this sort of matrix is called a document-term matrix.\n",
    "\n",
    "Call your array `doc_term_train`."
   ]
  },
  {
   "cell_type": "code",
   "execution_count": 15,
   "metadata": {},
   "outputs": [],
   "source": [
    "## Code here\n",
    "# this defines an array of zeros with\n",
    "# number of rows equal to the number of training documents\n",
    "# and number of columns equal to the number of basis_set words\n",
    "doc_term_train = np.zeros((len(df_train), len(basis_set)))\n",
    "\n",
    "# this loops through the documents in the training set\n",
    "for i in range(len(df_train)):\n",
    "    # each row of the array is replaced with the bag of words vector\n",
    "    # for that document\n",
    "    doc_term_train[i,:] = get_bow_vector(list(df_train.tokens)[i], basis_set)"
   ]
  },
  {
   "cell_type": "code",
   "execution_count": 16,
   "metadata": {},
   "outputs": [
    {
     "data": {
      "text/plain": [
       "array([[0., 0., 0., ..., 0., 0., 0.],\n",
       "       [0., 0., 0., ..., 0., 0., 0.],\n",
       "       [0., 0., 0., ..., 0., 0., 0.],\n",
       "       ...,\n",
       "       [0., 0., 0., ..., 0., 0., 0.],\n",
       "       [0., 0., 0., ..., 0., 0., 0.],\n",
       "       [0., 0., 0., ..., 0., 0., 0.]])"
      ]
     },
     "execution_count": 16,
     "metadata": {},
     "output_type": "execute_result"
    }
   ],
   "source": [
    "## Code here\n",
    "doc_term_train"
   ]
  },
  {
   "cell_type": "markdown",
   "metadata": {},
   "source": [
    "More Coding By You\n",
    "How many columns are there in your document-term matrix?\n",
    "\n",
    "If you wanted to do a Sentiment identification process we'd probably want to reduce the dimensionality of this data set. Use `sklearn`'s PCA to produce an explained variance ratio curve following the code below."
   ]
  },
  {
   "cell_type": "code",
   "execution_count": 17,
   "metadata": {},
   "outputs": [
    {
     "data": {
      "text/plain": [
       "(800, 17563)"
      ]
     },
     "execution_count": 17,
     "metadata": {},
     "output_type": "execute_result"
    }
   ],
   "source": [
    "## Code here\n",
    "# (rows,columns)\n",
    "np.shape(doc_term_train)"
   ]
  },
  {
   "cell_type": "code",
   "execution_count": 18,
   "metadata": {},
   "outputs": [],
   "source": [
    "## import pca and matplotlib.pyplot\n",
    "from sklearn.preprocessing import StandardScaler\n",
    "from sklearn.pipeline import Pipeline\n",
    "from sklearn.decomposition import PCA\n",
    "\n",
    "import matplotlib.pyplot as plt\n",
    "from seaborn import set_style\n",
    "\n",
    "set_style(\"whitegrid\")"
   ]
  },
  {
   "cell_type": "code",
   "execution_count": 19,
   "metadata": {},
   "outputs": [
    {
     "data": {
      "text/plain": [
       "Pipeline(steps=[('scale', StandardScaler()), ('pca', PCA())])"
      ]
     },
     "execution_count": 19,
     "metadata": {},
     "output_type": "execute_result"
    }
   ],
   "source": [
    "# This is a pipeline that scales the data and then\n",
    "# applies pca\n",
    "pca_pipe = Pipeline([('scale',StandardScaler()),\n",
    "                         ('pca',PCA())])\n",
    "\n",
    "# This fits the pipeline\n",
    "pca_pipe.fit(doc_term_train)"
   ]
  },
  {
   "cell_type": "code",
   "execution_count": 20,
   "metadata": {},
   "outputs": [
    {
     "data": {
      "image/png": "[encoded data removed]",
      "text/plain": [
       "<Figure size 720x576 with 1 Axes>"
      ]
     },
     "metadata": {},
     "output_type": "display_data"
    }
   ],
   "source": [
    "# make a figure\n",
    "plt.figure(figsize=(10,8))\n",
    "\n",
    "# plot the number of components on the x\n",
    "# plot the explained variance ratio on the y\n",
    "plt.plot(range(1, len(pca_pipe['pca'].explained_variance_ratio_)+1),\n",
    "            np.cumsum(pca_pipe['pca'].explained_variance_ratio_))\n",
    "\n",
    "plt.xlabel(\"Number of Components\",fontsize=14)\n",
    "plt.ylabel(\"Cumulative Explained Variance\",fontsize=14)\n",
    "\n",
    "plt.show()"
   ]
  },
  {
   "cell_type": "markdown",
   "metadata": {},
   "source": [
    "### Even More Coding By You\n",
    "Let's use this PCA to build an `SVC` classifier. \n",
    "\n",
    "__Note:__ that you don't need to know what the support vector classifier does to follow along with this code chunk. Just know that it is a very powerful classification algorithm, and you can always fill in the details later. After you've fit the classifier find the training true positive rate and the training false positive rate.\n",
    "\n",
    "We'll use the first `1500` components of the PCA fit."
   ]
  },
  {
   "cell_type": "code",
   "execution_count": 21,
   "metadata": {},
   "outputs": [],
   "source": [
    "# This will give you the data projected onto\n",
    "# the first 1500 PCA dimensions\n",
    "fit = pca_pipe.transform(doc_term_train)[:,:1500]"
   ]
  },
  {
   "cell_type": "code",
   "execution_count": 22,
   "metadata": {},
   "outputs": [],
   "source": [
    "# You define the functions to calculate True Positive Rate\n",
    "# and False positive rate here\n",
    "def tpr(actual,pred):\n",
    "    tp = np.sum((actual==1) & (pred == 1))\n",
    "    fn = np.sum((actual==1) & (pred == 0))\n",
    "    return tp/(tp+fn)\n",
    "    \n",
    "def fpr(actual,pred):\n",
    "    fp = np.sum((actual == 0) & (pred == 1))\n",
    "    tn = np.sum((actual == 0) & (pred == 0))\n",
    "    return fp/(fp+tn)"
   ]
  },
  {
   "cell_type": "code",
   "execution_count": 23,
   "metadata": {},
   "outputs": [],
   "source": [
    "# The Support Vector Classifier is stored\n",
    "# in sklearn.svm\n",
    "from sklearn.svm import SVC "
   ]
  },
  {
   "cell_type": "code",
   "execution_count": 24,
   "metadata": {},
   "outputs": [],
   "source": [
    "# make a classifier object\n",
    "svc = SVC()"
   ]
  },
  {
   "cell_type": "code",
   "execution_count": 25,
   "metadata": {},
   "outputs": [],
   "source": [
    "# this fits the object on the training data\n",
    "svc.fit(fit, df_train.coding.values)\n",
    "\n",
    "# this produces the classifiers prediction on\n",
    "# that data\n",
    "pred = svc.predict(fit)"
   ]
  },
  {
   "cell_type": "code",
   "execution_count": 26,
   "metadata": {},
   "outputs": [
    {
     "name": "stdout",
     "output_type": "stream",
     "text": [
      "Training tpr = 0.8897058823529411\n",
      "Training fpr = 0.0\n"
     ]
    }
   ],
   "source": [
    "# print out the tpr and fpr here\n",
    "print(\"Training tpr =\",tpr(df_train.coding.values, pred))\n",
    "print(\"Training fpr =\",fpr(df_train.coding.values, pred))"
   ]
  },
  {
   "cell_type": "markdown",
   "metadata": {},
   "source": [
    "## Word Frequency Vectors\n",
    "For a number of reasons that you may have already guessed (and potentially asked me about), bag of words vectors may not always be the best kind of vector for your application. A nice example from Natural Language Processing in Action is the following.\n",
    "\n",
    "If I tell you that document A contains the word \"dog\" 3 times, and document B contains the word \"dog\" 100 times you may be inclinded to think that document B is more likely to be about dogs that document A. However, the sharp thinker (which I know all of you are!) would realize that the length of the documents is relavent here. In this example document A was a short email (30 words) about scheduling a vet appointment, while document B was the incredibly long novel War and Peace (580000 words). Thus dog is 1/10 of document A while dog is 0.00017 of document B.\n",
    "\n",
    "This sort of example highlights the need for a term frequency vector. A term frequency vector takes the bag of words vector we previously discussed and divides each entry by the number of terms in the document. For example, if you had the following bag of words vector:\n",
    "\n",
    "$$\n",
    "(0,0,1,2,1)\n",
    "$$\n",
    "you'd end up with this frequency vector:\n",
    "$$\n",
    "(0,0,1/4,1/2,1/4)\n",
    "$$\n",
    "\n",
    "### You Code\n",
    "Turn your document-term matrix from a bag of words matrix to a frequency matrix, call the matrix doc_term_train_freq.\n",
    "\n"
   ]
  },
  {
   "cell_type": "code",
   "execution_count": 27,
   "metadata": {},
   "outputs": [],
   "source": [
    "# np.sum(array,axis=1) computes a row sum\n",
    "# this will give you the word counts for your documents \n",
    "# .reshape(-1,1) turns it into a column vector\n",
    "doc_term_train_freq = doc_term_train/np.sum(doc_term_train,axis=1).reshape(-1,1)"
   ]
  },
  {
   "cell_type": "markdown",
   "metadata": {},
   "source": [
    "### You Code Some More\n",
    "Now run this data through PCA and plot the explained variance curve."
   ]
  },
  {
   "cell_type": "code",
   "execution_count": 28,
   "metadata": {},
   "outputs": [
    {
     "data": {
      "text/plain": [
       "Pipeline(steps=[('scale', StandardScaler()), ('pca', PCA())])"
      ]
     },
     "execution_count": 28,
     "metadata": {},
     "output_type": "execute_result"
    }
   ],
   "source": [
    "# we make a new pipeline for this second model\n",
    "pca_pipe_freq = Pipeline([('scale',StandardScaler()),\n",
    "                             ('pca',PCA())])\n",
    "\n",
    "pca_pipe_freq.fit(doc_term_train_freq)"
   ]
  },
  {
   "cell_type": "code",
   "execution_count": 29,
   "metadata": {},
   "outputs": [
    {
     "data": {
      "image/png": "[encoded data removed]",
      "text/plain": [
       "<Figure size 720x576 with 1 Axes>"
      ]
     },
     "metadata": {},
     "output_type": "display_data"
    }
   ],
   "source": [
    "plt.figure(figsize=(10,8))\n",
    "\n",
    "plt.plot(range(1, len(pca_pipe_freq['pca'].explained_variance_ratio_)+1),\n",
    "            np.cumsum(pca_pipe_freq['pca'].explained_variance_ratio_))\n",
    "\n",
    "plt.xlabel(\"Number of Components\",fontsize=14)\n",
    "plt.ylabel(\"Cumulative Explained Variance\",fontsize=14)\n",
    "\n",
    "plt.show()"
   ]
  },
  {
   "cell_type": "markdown",
   "metadata": {},
   "source": [
    "### You Code Even More\n",
    "Fit the classifier on the frequency matrix projected onto the first 1500 PCA dimensions, calculate the training tpr and fpr."
   ]
  },
  {
   "cell_type": "code",
   "execution_count": 30,
   "metadata": {},
   "outputs": [],
   "source": [
    "fit_freq = pca_pipe_freq.transform(doc_term_train_freq)[:,:1500]"
   ]
  },
  {
   "cell_type": "code",
   "execution_count": 31,
   "metadata": {},
   "outputs": [],
   "source": [
    "svc_freq = SVC()"
   ]
  },
  {
   "cell_type": "code",
   "execution_count": 32,
   "metadata": {},
   "outputs": [],
   "source": [
    "# this fits the object on the training data\n",
    "svc_freq.fit(fit_freq, df_train.coding.values)\n",
    "\n",
    "# this produces the classifiers prediction on\n",
    "# that data\n",
    "pred_freq = svc_freq.predict(fit_freq)"
   ]
  },
  {
   "cell_type": "code",
   "execution_count": 33,
   "metadata": {},
   "outputs": [
    {
     "name": "stdout",
     "output_type": "stream",
     "text": [
      "Training tpr = 0.9926470588235294\n",
      "Training fpr = 0.0\n"
     ]
    }
   ],
   "source": [
    "print(\"Training tpr =\",tpr(df_train.coding.values, pred_freq))\n",
    "print(\"Training fpr =\",fpr(df_train.coding.values, pred_freq))"
   ]
  },
  {
   "cell_type": "markdown",
   "metadata": {},
   "source": [
    "## The TLDR of TF-IDF (still probably a little long though!)\n",
    "The final document vector type we'll discuss in this notebook is the TF-IDF vector. The TF of TF-IDF stands for term frequency, this is the vector type that we just finished working with. So let's introduce the IDF.\n",
    "\n",
    "IDF stands for inverse document frequency. The document frequency of a given term is the number of documents that contain that term. For example if your corpus has 10 documents and 3 of them use the word \"cat\", then the document frequency for \"cat\" is 3/10. The inverse document frequency of \"cat\" in this example is the inverse of that, so 10/3.\n",
    "\n",
    "To compute the tf-idf of a term for a given document you multiply the term frequency of the term within that document by the  (base 10) of the inverse document frequency for that term across the corpus.\n",
    "\n",
    "Returning to our cat example. Let's suppose the word \"cat\" occurs 2 times in a document that has 12 words, and this document is a part of the 10 document corpus we mentioned a few seconds ago. Then the entry for \"cat\" in this document's tfidf vector is:\n",
    " \n",
    "$$\n",
    "\\mbox{tfidf = term-frequency} \\times \\log (\\mbox{inverse-document-frequency}) = \\frac{2}{12}\\log\\left(\\frac{10}{3}\\right)\n",
    "$$\n",
    " \n",
    "\n",
    "I'm guessing you have two questions at this point.\n",
    "\n",
    "### 1. Why the  $\\log $?\n",
    "I haven't found a satisfactory answer to this yet, but this stackexchange post https://math.stackexchange.com/questions/1362323/why-do-use-logarithms-in-the-tf-idf-formula gives a couple of explanations. One is related to Zipf's law (more on that in notebook 2). The other is that the tf-idf approach stems from the field of information theory and is related to something called entropy which involves the $\\log $.\n",
    "\n",
    "### 2. Why is this useful?\n",
    "It's a reasonable question. Once reason this may be useful is because it kind of filters out common terms (What's the idf for a term that appears in every document?) and highlights terms that seldomly appear accross the corpus. This is useful for information retrieval from a corpus of documents all about the same thing. For instance if you have a a collection of documents about cats, and only one of them is about veterinary practices for cats the tf-idf vector for that document would give a heavy weight to terms like veterinarian.\n",
    "\n",
    "### You Code Again\n",
    "Compute the tf-idf matrix for our training data. Will this matrix be useful for classifation? I have no idea, but let's do it anyway. Call this matrix `doc_term_train_tfidf`.\n",
    "\n"
   ]
  },
  {
   "cell_type": "code",
   "execution_count": 34,
   "metadata": {},
   "outputs": [],
   "source": [
    "## Code here\n",
    "def get_idf(doc_term_mat):\n",
    "    # how many documents are there?\n",
    "    n_docs = np.shape(doc_term_mat)[0]\n",
    "    \n",
    "    # doc_term_mat>0 makes a boolean array of any time the array >0\n",
    "    # summing along the columns gives the number of documents each term appears in\n",
    "    return np.log10(n_docs/np.sum(doc_term_mat>0,axis=0))"
   ]
  },
  {
   "cell_type": "code",
   "execution_count": 35,
   "metadata": {},
   "outputs": [],
   "source": [
    "doc_term_train_tfidf = doc_term_train_freq*get_idf(doc_term_train)"
   ]
  },
  {
   "cell_type": "markdown",
   "metadata": {},
   "source": [
    "### You Code More Again\n",
    "Run the tf-idf matrix for the training data through PCA and plot the explained variance ratio."
   ]
  },
  {
   "cell_type": "code",
   "execution_count": 36,
   "metadata": {},
   "outputs": [
    {
     "data": {
      "text/plain": [
       "Pipeline(steps=[('scale', StandardScaler()), ('pca', PCA())])"
      ]
     },
     "execution_count": 36,
     "metadata": {},
     "output_type": "execute_result"
    }
   ],
   "source": [
    "pca_pipe_tfidf = Pipeline([('scale',StandardScaler()),\n",
    "                             ('pca',PCA())])\n",
    "\n",
    "pca_pipe_tfidf.fit(doc_term_train_tfidf)"
   ]
  },
  {
   "cell_type": "code",
   "execution_count": 37,
   "metadata": {},
   "outputs": [
    {
     "data": {
      "image/png": "[encoded data removed]",
      "text/plain": [
       "<Figure size 720x576 with 1 Axes>"
      ]
     },
     "metadata": {},
     "output_type": "display_data"
    }
   ],
   "source": [
    "plt.figure(figsize=(10,8))\n",
    "\n",
    "plt.plot(range(1, len(pca_pipe_tfidf['pca'].explained_variance_ratio_)+1),\n",
    "            np.cumsum(pca_pipe_tfidf['pca'].explained_variance_ratio_))\n",
    "\n",
    "plt.xlabel(\"Number of Components\",fontsize=14)\n",
    "plt.ylabel(\"Cumulative Explained Variance\",fontsize=14)\n",
    "\n",
    "plt.show()"
   ]
  },
  {
   "cell_type": "markdown",
   "metadata": {},
   "source": [
    "### You Code Even More.. Again!\n",
    "Now project the tfidf matrix onto the first 1500 dimensions and fit the svc."
   ]
  },
  {
   "cell_type": "code",
   "execution_count": 38,
   "metadata": {},
   "outputs": [],
   "source": [
    "fit_tfidf = pca_pipe_tfidf.transform(doc_term_train_tfidf)[:,:1500]"
   ]
  },
  {
   "cell_type": "code",
   "execution_count": 39,
   "metadata": {},
   "outputs": [],
   "source": [
    "svc_tfidf = SVC()"
   ]
  },
  {
   "cell_type": "code",
   "execution_count": 40,
   "metadata": {},
   "outputs": [],
   "source": [
    "# this fits the object on the training data\n",
    "svc_tfidf.fit(fit_tfidf, df_train.coding.values)\n",
    "\n",
    "# this produces the classifiers prediction on\n",
    "# that data\n",
    "pred_tfidf = svc_tfidf.predict(fit_tfidf)"
   ]
  },
  {
   "cell_type": "code",
   "execution_count": 41,
   "metadata": {},
   "outputs": [
    {
     "name": "stdout",
     "output_type": "stream",
     "text": [
      "Training tpr = 0.9926470588235294\n",
      "Training fpr = 0.0\n"
     ]
    }
   ],
   "source": [
    "print(\"Training tpr =\",tpr(df_train.coding.values, pred_tfidf))\n",
    "print(\"Training fpr =\",fpr(df_train.coding.values, pred_tfidf))"
   ]
  },
  {
   "cell_type": "markdown",
   "metadata": {},
   "source": [
    "### That's It!\n",
    "That's it for this notebook, next up we're going to look at way we can calculate how alike two documents are. Note you can calculate the performance on the test set for homework below. Note to respect the train-test split the bag of words basis set should be the training bag of words basis set. Also when you calculate the tfidf use the idf calculated on the training set only.\n",
    "\n",
    "### Calculate Test Set Performance Here"
   ]
  },
  {
   "cell_type": "code",
   "execution_count": 42,
   "metadata": {},
   "outputs": [],
   "source": [
    "## Code here\n",
    "# prep test data\n",
    "df_test['review_lower'] = df_test['review'].str.lower()\n",
    "df_test['tokens'] = df_test['review_lower'].apply(tokenizer.tokenize)"
   ]
  },
  {
   "cell_type": "code",
   "execution_count": 43,
   "metadata": {},
   "outputs": [],
   "source": [
    "# test bow matrix\n",
    "doc_term_test = np.zeros((len(df_test), len(basis_set)))\n",
    "\n",
    "for i in range(len(df_test)):\n",
    "    doc_term_test[i,:] = get_bow_vector(list(df_test.tokens)[i], basis_set)"
   ]
  },
  {
   "cell_type": "code",
   "execution_count": 44,
   "metadata": {},
   "outputs": [
    {
     "data": {
      "text/plain": [
       "array([[0., 0., 0., ..., 0., 0., 0.],\n",
       "       [0., 0., 0., ..., 0., 0., 0.],\n",
       "       [0., 0., 0., ..., 0., 0., 0.],\n",
       "       ...,\n",
       "       [0., 0., 0., ..., 0., 0., 0.],\n",
       "       [0., 0., 0., ..., 0., 0., 0.],\n",
       "       [0., 0., 0., ..., 0., 0., 0.]])"
      ]
     },
     "execution_count": 44,
     "metadata": {},
     "output_type": "execute_result"
    }
   ],
   "source": [
    "doc_term_test"
   ]
  },
  {
   "cell_type": "code",
   "execution_count": 45,
   "metadata": {},
   "outputs": [],
   "source": [
    "fit_test = pca_pipe.transform(doc_term_test)[:,:1500]\n",
    "\n",
    "pred_test = svc.predict(fit_test)"
   ]
  },
  {
   "cell_type": "code",
   "execution_count": 46,
   "metadata": {},
   "outputs": [
    {
     "name": "stdout",
     "output_type": "stream",
     "text": [
      "Bag of Words document-term matrix test performance.\n",
      "Testing tpr = 0.021505376344086023\n",
      "Testing fpr = 0.0\n"
     ]
    }
   ],
   "source": [
    "print(\"Bag of Words document-term matrix test performance.\")\n",
    "print(\"Testing tpr =\",tpr(df_test.coding.values, pred_test))\n",
    "print(\"Testing fpr =\",fpr(df_test.coding.values, pred_test))"
   ]
  },
  {
   "cell_type": "code",
   "execution_count": 47,
   "metadata": {},
   "outputs": [],
   "source": [
    "# test frequency matrix\n",
    "doc_term_test_freq = doc_term_test\n",
    "\n",
    "for i in range(np.shape(doc_term_test_freq)[0]):\n",
    "    if np.sum(doc_term_test_freq[i,:]) > 0:\n",
    "        doc_term_test_freq[i,:] = doc_term_test[i,:]/np.sum(doc_term_test[i,:])"
   ]
  },
  {
   "cell_type": "code",
   "execution_count": 48,
   "metadata": {},
   "outputs": [],
   "source": [
    "fit_test_freq = pca_pipe_freq.transform(doc_term_test_freq)[:,:1500]\n",
    "\n",
    "pred_test_freq = svc_freq.predict(fit_test_freq)"
   ]
  },
  {
   "cell_type": "code",
   "execution_count": 49,
   "metadata": {},
   "outputs": [
    {
     "name": "stdout",
     "output_type": "stream",
     "text": [
      "Frequency document-term matrix test performance.\n",
      "Testing tpr = 0.03225806451612903\n",
      "Testing fpr = 0.0\n"
     ]
    }
   ],
   "source": [
    "print(\"Frequency document-term matrix test performance.\")\n",
    "print(\"Testing tpr =\",tpr(df_test.coding.values, pred_test_freq))\n",
    "print(\"Testing fpr =\",fpr(df_test.coding.values, pred_test_freq))"
   ]
  },
  {
   "cell_type": "code",
   "execution_count": 50,
   "metadata": {},
   "outputs": [],
   "source": [
    "# tfidf\n",
    "doc_term_test_freq = doc_term_test\n",
    "\n",
    "for i in range(np.shape(doc_term_test_freq)[0]):\n",
    "    if np.sum(doc_term_test_freq[i,:]) > 0:\n",
    "        doc_term_test_freq[i,:] = doc_term_test[i,:]/np.sum(doc_term_test[i,:])"
   ]
  },
  {
   "cell_type": "code",
   "execution_count": 51,
   "metadata": {},
   "outputs": [],
   "source": [
    "doc_term_test_tfidf = doc_term_test_freq*get_idf(doc_term_train)"
   ]
  },
  {
   "cell_type": "code",
   "execution_count": 52,
   "metadata": {},
   "outputs": [],
   "source": [
    "fit_test_tfidf = pca_pipe_tfidf.transform(doc_term_test_tfidf)[:,:1500]\n",
    "\n",
    "pred_test_tfidf = svc_tfidf.predict(fit_test_tfidf)"
   ]
  },
  {
   "cell_type": "code",
   "execution_count": 53,
   "metadata": {},
   "outputs": [
    {
     "name": "stdout",
     "output_type": "stream",
     "text": [
      "TFIDF document-term matrix test performance.\n",
      "Testing tpr = 0.03225806451612903\n",
      "Testing fpr = 0.0\n"
     ]
    }
   ],
   "source": [
    "print(\"TFIDF document-term matrix test performance.\")\n",
    "print(\"Testing tpr =\",tpr(df_test.coding.values, pred_test_tfidf))\n",
    "print(\"Testing fpr =\",fpr(df_test.coding.values, pred_test_tfidf))"
   ]
  },
  {
   "cell_type": "markdown",
   "metadata": {},
   "source": [
    "## Interetsing Articles\n",
    " \n",
    "1. [A Gentle Introduction to the Bag-of-Words Model](https://machinelearningmastery.com/gentle-introduction-bag-words-model/)   \n",
    "2. [Python for NLP: Creating Bag of Words Model from Scratch](https://stackabuse.com/python-for-nlp-creating-bag-of-words-model-from-scratch/)   \n"
   ]
  },
  {
   "cell_type": "code",
   "execution_count": null,
   "metadata": {},
   "outputs": [],
   "source": []
  }
 ],
 "metadata": {
  "kernelspec": {
   "display_name": "Python 3",
   "language": "python",
   "name": "python3"
  },
  "language_info": {
   "codemirror_mode": {
    "name": "ipython",
    "version": 3
   },
   "file_extension": ".py",
   "mimetype": "text/x-python",
   "name": "python",
   "nbconvert_exporter": "python",
   "pygments_lexer": "ipython3",
   "version": "3.8.5"
  }
 },
 "nbformat": 4,
 "nbformat_minor": 4
}
