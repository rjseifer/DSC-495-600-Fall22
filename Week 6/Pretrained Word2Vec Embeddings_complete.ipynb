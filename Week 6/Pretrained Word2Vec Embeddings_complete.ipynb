{
 "cells": [
  {
   "cell_type": "markdown",
   "metadata": {},
   "source": [
    "[Pretrained Word2Vec Embeddings](#Pretrained-Word2Vec-Embeddings)   \n",
    "\n",
    "1. [Google News Embedding](#Google-News-Embedding)    \n",
    "2. [Similarity Scores](#Similarity-Scores)    \n",
    "3. [Debunking Some Common Examples](#Debunking-Some-Common-Examples)\n",
    "4. [Other Pretrained Models](Other-Pretrained-Models)\n",
    "5. [Building Your Own Model](Building-Your-Own-Model)\n",
    "\n",
    "Note: [Gensim Word2Vec Tutorial](https://www.kaggle.com/code/pierremegret/gensim-word2vec-tutorial/notebook)\n",
    "\n",
    "\n",
    "# Pretrained Word2Vec Embeddings\n",
    "\n",
    "Now that we have a better feel for the model behind Word2Vec we'll see how we can implement word embeddings developed by teams with more computational resources than most everyone has at home.\n",
    "\n",
    "We'll be using `gensim` and more or less working through the tutorial in their documentation here https://radimrehurek.com/gensim/auto_examples/tutorials/run_word2vec.html. I'll also try my best to pull in some examples from Mikolov et. al.'s original papers.\n",
    "\n",
    "First things first, please try running the following code."
   ]
  },
  {
   "cell_type": "code",
   "execution_count": 1,
   "metadata": {},
   "outputs": [],
   "source": [
    "import numpy as np"
   ]
  },
  {
   "cell_type": "code",
   "execution_count": 2,
   "metadata": {},
   "outputs": [],
   "source": [
    "import gensim.downloader as api"
   ]
  },
  {
   "cell_type": "code",
   "execution_count": 3,
   "metadata": {},
   "outputs": [
    {
     "name": "stdout",
     "output_type": "stream",
     "text": [
      "[=================================================-] 100.0% 1662.7/1662.8MB downloaded\n"
     ]
    }
   ],
   "source": [
    "wv = api.load('word2vec-google-news-300')"
   ]
  },
  {
   "cell_type": "markdown",
   "metadata": {},
   "source": [
    "The above code takes a bit to run, and takes a long while to run if it's your first time running it (the model is approximately 2GB). So please hit shift + enter now while I'm talking so it will load in time for our first coding break.\n",
    "\n",
    "## Google News Embedding\n",
    "The model we just loaded using gensim was built by Google using their Google News dataset. Their network was trained with a vocabulary of 3 million words and phrases using.\n",
    "\n",
    "These 3 million dimensional one hot encoded vectors were then projected down to 300 features, meaning that each word vector in the embedding has 300 dimensions. Using the language from `Last week's class` their $M = 3,000,000$ and their #N= 300#.\n",
    "\n",
    "### Accessing the Word Vectors\n",
    "Once the above has loaded you can access the embedding of any word or phrase in the embedding by simply calling wv[string]. Let's see"
   ]
  },
  {
   "cell_type": "code",
   "execution_count": 4,
   "metadata": {},
   "outputs": [
    {
     "data": {
      "text/plain": [
       "array([ 0.32617188,  0.13085938,  0.03466797, -0.08300781,  0.08984375,\n",
       "       -0.04125977, -0.19824219,  0.00689697,  0.14355469,  0.0019455 ,\n",
       "        0.02880859, -0.25      , -0.08398438, -0.15136719, -0.10205078,\n",
       "        0.04077148, -0.09765625,  0.05932617,  0.02978516, -0.10058594,\n",
       "       -0.13085938,  0.001297  ,  0.02612305, -0.27148438,  0.06396484,\n",
       "       -0.19140625, -0.078125  ,  0.25976562,  0.375     , -0.04541016,\n",
       "        0.16210938,  0.13671875, -0.06396484, -0.02062988, -0.09667969,\n",
       "        0.25390625,  0.24804688, -0.12695312,  0.07177734,  0.3203125 ,\n",
       "        0.03149414, -0.03857422,  0.21191406, -0.00811768,  0.22265625,\n",
       "       -0.13476562, -0.07617188,  0.01049805, -0.05175781,  0.03808594,\n",
       "       -0.13378906,  0.125     ,  0.0559082 , -0.18261719,  0.08154297,\n",
       "       -0.08447266, -0.07763672, -0.04345703,  0.08105469, -0.01092529,\n",
       "        0.17480469,  0.30664062, -0.04321289, -0.01416016,  0.09082031,\n",
       "       -0.00927734, -0.03442383, -0.11523438,  0.12451172, -0.0246582 ,\n",
       "        0.08544922,  0.14355469, -0.27734375,  0.03662109, -0.11035156,\n",
       "        0.13085938, -0.01721191, -0.08056641, -0.00708008, -0.02954102,\n",
       "        0.30078125, -0.09033203,  0.03149414, -0.18652344, -0.11181641,\n",
       "        0.10253906, -0.25976562, -0.02209473,  0.16796875, -0.05322266,\n",
       "       -0.14550781, -0.01049805, -0.03039551, -0.03857422,  0.11523438,\n",
       "       -0.0062561 , -0.13964844,  0.08007812,  0.06103516, -0.15332031,\n",
       "       -0.11132812, -0.14160156,  0.19824219, -0.06933594,  0.29296875,\n",
       "       -0.16015625,  0.20898438,  0.00041771,  0.01831055, -0.20214844,\n",
       "        0.04760742,  0.05810547, -0.0123291 , -0.01989746, -0.00364685,\n",
       "       -0.0135498 , -0.08251953, -0.03149414,  0.00717163,  0.20117188,\n",
       "        0.08300781, -0.0480957 , -0.26367188, -0.09667969, -0.22558594,\n",
       "       -0.09667969,  0.06494141, -0.02502441,  0.08496094,  0.03198242,\n",
       "       -0.07568359, -0.25390625, -0.11669922, -0.01446533, -0.16015625,\n",
       "       -0.00701904, -0.05712891,  0.02807617, -0.09179688,  0.25195312,\n",
       "        0.24121094,  0.06640625,  0.12988281,  0.17089844, -0.13671875,\n",
       "        0.1875    , -0.10009766, -0.04199219, -0.12011719,  0.00524902,\n",
       "        0.15625   , -0.203125  , -0.07128906, -0.06103516,  0.01635742,\n",
       "        0.18261719,  0.03588867, -0.04248047,  0.16796875, -0.15039062,\n",
       "       -0.16992188,  0.01831055,  0.27734375, -0.01269531, -0.0390625 ,\n",
       "       -0.15429688,  0.18457031, -0.07910156,  0.09033203, -0.02709961,\n",
       "        0.08251953,  0.06738281, -0.16113281, -0.19628906, -0.15234375,\n",
       "       -0.04711914,  0.04760742,  0.05908203, -0.16894531, -0.14941406,\n",
       "        0.12988281,  0.04321289,  0.02624512, -0.1796875 , -0.19628906,\n",
       "        0.06445312,  0.08935547,  0.1640625 , -0.03808594, -0.09814453,\n",
       "       -0.01483154,  0.1875    ,  0.12792969,  0.22753906,  0.01818848,\n",
       "       -0.07958984, -0.11376953, -0.06933594, -0.15527344, -0.08105469,\n",
       "       -0.09277344, -0.11328125, -0.15136719, -0.08007812, -0.05126953,\n",
       "       -0.15332031,  0.11669922,  0.06835938,  0.0324707 , -0.33984375,\n",
       "       -0.08154297, -0.08349609,  0.04003906,  0.04907227, -0.24121094,\n",
       "       -0.13476562, -0.05932617,  0.12158203, -0.34179688,  0.16503906,\n",
       "        0.06176758, -0.18164062,  0.20117188, -0.07714844,  0.1640625 ,\n",
       "        0.00402832,  0.30273438, -0.10009766, -0.13671875, -0.05957031,\n",
       "        0.0625    , -0.21289062, -0.06542969,  0.1796875 , -0.07763672,\n",
       "       -0.01928711, -0.15039062, -0.00106049,  0.03417969,  0.03344727,\n",
       "        0.19335938,  0.01965332, -0.19921875, -0.10644531,  0.01525879,\n",
       "        0.00927734,  0.01416016, -0.02392578,  0.05883789,  0.02368164,\n",
       "        0.125     ,  0.04760742, -0.05566406,  0.11572266,  0.14746094,\n",
       "        0.1015625 , -0.07128906, -0.07714844, -0.12597656,  0.0291748 ,\n",
       "        0.09521484, -0.12402344, -0.109375  , -0.12890625,  0.16308594,\n",
       "        0.28320312, -0.03149414,  0.12304688, -0.23242188, -0.09375   ,\n",
       "       -0.12988281,  0.0135498 , -0.03881836, -0.08251953,  0.00897217,\n",
       "        0.16308594,  0.10546875, -0.13867188, -0.16503906, -0.03857422,\n",
       "        0.10839844, -0.10498047,  0.06396484,  0.38867188, -0.05981445,\n",
       "       -0.0612793 , -0.10449219, -0.16796875,  0.07177734,  0.13964844,\n",
       "        0.15527344, -0.03125   , -0.20214844, -0.12988281, -0.10058594,\n",
       "       -0.06396484, -0.08349609, -0.30273438, -0.08007812,  0.02099609],\n",
       "      dtype=float32)"
      ]
     },
     "execution_count": 4,
     "metadata": {},
     "output_type": "execute_result"
    }
   ],
   "source": [
    "wv['man']"
   ]
  },
  {
   "cell_type": "code",
   "execution_count": 5,
   "metadata": {},
   "outputs": [
    {
     "data": {
      "text/plain": [
       "array([ 2.43164062e-01, -7.71484375e-02, -1.03027344e-01, -1.07421875e-01,\n",
       "        1.18164062e-01, -1.07421875e-01, -1.14257812e-01,  2.56347656e-02,\n",
       "        1.11816406e-01,  4.85839844e-02, -9.71679688e-02, -3.43750000e-01,\n",
       "       -6.29882812e-02, -1.25000000e-01, -2.70996094e-02,  9.42382812e-02,\n",
       "       -1.87500000e-01, -5.34667969e-02,  6.25000000e-02, -3.05175781e-02,\n",
       "       -2.90527344e-02, -4.80957031e-02, -5.51757812e-02, -4.08203125e-01,\n",
       "        1.01318359e-02, -2.32421875e-01, -1.70898438e-01,  2.63671875e-01,\n",
       "        3.49609375e-01, -2.11914062e-01,  1.43554688e-01, -6.22558594e-03,\n",
       "       -2.25585938e-01, -1.05468750e-01, -1.16210938e-01,  1.23046875e-01,\n",
       "        3.06640625e-01, -4.88281250e-02, -9.57031250e-02,  1.99218750e-01,\n",
       "       -1.57226562e-01, -2.80761719e-02,  1.58203125e-01, -2.42919922e-02,\n",
       "        1.29882812e-01, -8.98437500e-02, -7.61718750e-02,  3.54003906e-02,\n",
       "       -3.06396484e-02,  1.52343750e-01,  5.24902344e-02,  1.60980225e-03,\n",
       "        5.56640625e-02,  3.95507812e-02, -7.71484375e-02, -7.12890625e-02,\n",
       "       -9.22851562e-02, -7.03125000e-02,  2.03125000e-01,  1.53198242e-02,\n",
       "        2.98828125e-01,  1.75781250e-01, -4.54101562e-02,  9.52148438e-02,\n",
       "        4.12597656e-02,  7.76367188e-02,  9.47265625e-02,  1.67968750e-01,\n",
       "        2.01171875e-01, -7.22656250e-02,  1.83593750e-01,  2.15820312e-01,\n",
       "       -2.38281250e-01,  1.04980469e-01, -1.66015625e-02,  2.40234375e-01,\n",
       "        1.67236328e-02, -4.56542969e-02,  1.68945312e-01,  1.85546875e-01,\n",
       "        2.47070312e-01, -1.02050781e-01,  8.49609375e-02, -1.04003906e-01,\n",
       "       -4.74609375e-01,  2.63671875e-01, -1.57226562e-01,  8.25195312e-02,\n",
       "        2.19726562e-01, -3.03955078e-02, -2.55859375e-01, -1.97265625e-01,\n",
       "       -9.27734375e-02, -1.28173828e-02,  1.26953125e-01,  3.54003906e-02,\n",
       "        5.88378906e-02,  3.27148438e-02,  1.72851562e-01, -2.08740234e-02,\n",
       "       -1.65039062e-01, -2.81250000e-01,  8.49609375e-02, -1.69921875e-01,\n",
       "        2.31445312e-01, -1.41601562e-01,  7.91015625e-02, -1.92382812e-01,\n",
       "        7.61718750e-02, -2.23632812e-01, -1.06811523e-02,  5.66406250e-02,\n",
       "        1.56250000e-01,  7.17773438e-02, -1.56250000e-01, -1.44531250e-01,\n",
       "       -8.30078125e-02, -1.21093750e-01,  5.63964844e-02,  2.61718750e-01,\n",
       "        7.95898438e-02, -1.28784180e-02, -2.00195312e-01, -4.39453125e-02,\n",
       "       -1.01562500e-01,  1.29882812e-01,  9.42382812e-02,  1.90429688e-02,\n",
       "        1.42578125e-01,  1.59179688e-01, -7.47070312e-02, -3.24218750e-01,\n",
       "       -2.07031250e-01,  4.80957031e-02, -4.19921875e-02,  9.22851562e-02,\n",
       "       -4.39453125e-02, -2.20703125e-01, -6.25000000e-02,  8.39843750e-02,\n",
       "        2.29492188e-01, -1.11816406e-01,  9.03320312e-02,  2.08984375e-01,\n",
       "       -2.28515625e-01,  2.87109375e-01, -1.38671875e-01,  1.85546875e-01,\n",
       "       -2.10937500e-01, -2.05078125e-01,  3.00781250e-01, -1.82617188e-01,\n",
       "        1.23046875e-01, -1.61132812e-01,  9.37500000e-02,  1.25976562e-01,\n",
       "       -8.10546875e-02,  9.15527344e-05,  1.53320312e-01, -8.10546875e-02,\n",
       "       -1.93359375e-01,  7.08007812e-03,  3.84765625e-01,  1.05957031e-01,\n",
       "       -1.09375000e-01, -1.13769531e-01,  9.13085938e-02, -1.92382812e-01,\n",
       "        6.12792969e-02,  6.07299805e-03, -4.54101562e-02,  6.25000000e-02,\n",
       "       -1.30859375e-01, -1.83593750e-01, -1.76757812e-01, -1.87500000e-01,\n",
       "        2.44140625e-01,  1.89453125e-01, -1.93359375e-01, -2.29492188e-02,\n",
       "        2.53906250e-02,  3.93676758e-03, -1.38671875e-01, -2.81250000e-01,\n",
       "       -1.80664062e-01,  8.69140625e-02,  3.17382812e-02,  2.55859375e-01,\n",
       "       -2.30468750e-01, -5.24902344e-02, -2.18200684e-03,  1.60156250e-01,\n",
       "        1.57226562e-01,  2.79296875e-01,  1.37695312e-01,  1.04492188e-01,\n",
       "       -1.18652344e-01, -5.81054688e-02, -7.32421875e-02,  1.04980469e-02,\n",
       "       -1.77734375e-01, -1.07421875e-01, -1.76757812e-01, -1.23046875e-01,\n",
       "       -1.69921875e-01, -1.34765625e-01,  6.39648438e-02,  1.22558594e-01,\n",
       "        1.95312500e-01, -4.94140625e-01, -3.90625000e-02, -3.19824219e-02,\n",
       "       -1.58691406e-02, -4.10156250e-02, -1.43554688e-01, -8.59375000e-02,\n",
       "       -7.95898438e-02,  2.46093750e-01, -1.77734375e-01,  2.05078125e-01,\n",
       "        5.32226562e-02, -2.51464844e-02,  2.14843750e-01,  2.12402344e-02,\n",
       "        9.76562500e-02, -2.16796875e-01,  2.85156250e-01, -1.19140625e-01,\n",
       "       -1.66992188e-01, -3.60107422e-03,  4.61425781e-02, -1.63085938e-01,\n",
       "       -2.53906250e-01,  1.89453125e-01, -7.51953125e-02, -5.39550781e-02,\n",
       "       -1.77734375e-01, -4.32128906e-02, -7.38525391e-03,  1.57226562e-01,\n",
       "        2.53906250e-01, -1.52343750e-01, -5.27343750e-02, -1.25000000e-01,\n",
       "        1.54296875e-01,  1.11816406e-01, -1.54418945e-02,  8.97216797e-03,\n",
       "       -5.63964844e-02, -2.58789062e-02,  1.93359375e-01,  5.22460938e-02,\n",
       "       -1.56250000e-02, -5.68847656e-02,  1.17187500e-01,  6.00585938e-02,\n",
       "       -2.64892578e-02, -1.39648438e-01, -7.27539062e-02, -5.00488281e-02,\n",
       "        2.97851562e-02, -9.61914062e-02, -1.60156250e-01, -1.41601562e-01,\n",
       "        2.17773438e-01,  2.55859375e-01, -4.58984375e-02,  1.17187500e-01,\n",
       "       -2.46093750e-01, -7.27539062e-02, -8.69140625e-02,  1.57226562e-01,\n",
       "       -1.88476562e-01,  4.39453125e-02, -5.55419922e-03,  6.93359375e-02,\n",
       "        1.42578125e-01, -1.20605469e-01, -1.04003906e-01, -3.41796875e-02,\n",
       "        1.82617188e-01, -1.29882812e-01,  1.63574219e-02,  3.20312500e-01,\n",
       "       -1.12304688e-01, -1.12915039e-02, -1.38671875e-01, -2.20703125e-01,\n",
       "        7.59124756e-04,  3.94531250e-01,  1.03515625e-01, -6.64062500e-02,\n",
       "       -2.67578125e-01, -2.47070312e-01, -7.27539062e-02,  1.07910156e-01,\n",
       "        1.18652344e-01, -8.30078125e-02,  6.54296875e-02, -2.94189453e-02],\n",
       "      dtype=float32)"
      ]
     },
     "execution_count": 5,
     "metadata": {},
     "output_type": "execute_result"
    }
   ],
   "source": [
    "wv['woman']"
   ]
  },
  {
   "cell_type": "code",
   "execution_count": 6,
   "metadata": {},
   "outputs": [
    {
     "data": {
      "text/plain": [
       "array([ 6.29882812e-02,  1.49536133e-03,  9.61914062e-02,  1.71875000e-01,\n",
       "        3.44238281e-02, -6.29882812e-02, -3.51562500e-01, -1.48437500e-01,\n",
       "        2.39257812e-01, -1.12304688e-01,  1.14257812e-01, -4.94140625e-01,\n",
       "        9.61914062e-02,  8.78906250e-02, -2.28515625e-01,  1.94335938e-01,\n",
       "        1.31835938e-01,  3.73046875e-01,  2.57812500e-01,  2.43164062e-01,\n",
       "       -3.43322754e-03, -3.04687500e-01,  2.71484375e-01, -1.41601562e-01,\n",
       "        3.01513672e-02, -2.83203125e-02,  1.57226562e-01, -3.24218750e-01,\n",
       "        1.62353516e-02,  5.78613281e-02, -2.03125000e-01, -1.71875000e-01,\n",
       "        3.82812500e-01, -2.45117188e-01,  8.05664062e-02,  3.51562500e-02,\n",
       "       -2.65625000e-01,  2.07031250e-01, -1.04370117e-02,  8.16406250e-01,\n",
       "        1.26953125e-01, -9.81445312e-02, -1.40625000e-01,  1.29882812e-01,\n",
       "        7.08007812e-02, -2.40234375e-01,  2.43164062e-01,  9.17968750e-02,\n",
       "       -1.74804688e-01,  4.15039062e-03, -5.49316406e-02, -1.30859375e-01,\n",
       "       -3.41796875e-01,  1.60156250e-01, -1.96289062e-01, -2.55859375e-01,\n",
       "       -1.56250000e-02, -5.83496094e-02,  6.17675781e-02,  1.76757812e-01,\n",
       "       -2.39257812e-01, -7.61718750e-02,  1.66992188e-01, -2.17773438e-01,\n",
       "        5.11718750e-01,  1.04003906e-01, -2.65625000e-01,  1.73828125e-01,\n",
       "       -2.40234375e-01, -1.25732422e-02, -4.34570312e-02, -1.91406250e-01,\n",
       "        4.29687500e-01,  4.61425781e-02, -1.49414062e-01,  3.95507812e-02,\n",
       "       -7.03125000e-02, -6.52343750e-01,  8.59375000e-02,  5.07812500e-02,\n",
       "        4.10156250e-02,  1.22558594e-01, -1.36718750e-01, -1.56250000e-02,\n",
       "        2.81250000e-01,  1.36718750e-01, -4.66796875e-01, -2.07031250e-01,\n",
       "        1.62353516e-02, -7.76367188e-02,  3.12500000e-02, -2.10937500e-01,\n",
       "       -5.27343750e-01, -3.47656250e-01,  1.11328125e-01, -1.58203125e-01,\n",
       "        3.63281250e-01,  2.69531250e-01, -5.46264648e-03, -1.25122070e-02,\n",
       "       -4.15039062e-02, -3.28125000e-01,  2.20947266e-02,  1.13281250e-01,\n",
       "        5.27343750e-02, -1.30859375e-01, -2.43164062e-01,  5.78125000e-01,\n",
       "       -6.01196289e-03,  1.98242188e-01, -1.84570312e-01, -1.51367188e-01,\n",
       "       -1.25000000e-01, -5.15625000e-01, -9.39941406e-03,  3.07617188e-02,\n",
       "        1.03027344e-01, -1.61132812e-01,  2.91015625e-01, -2.61718750e-01,\n",
       "       -3.35937500e-01, -2.63671875e-01, -2.83203125e-02,  8.39843750e-02,\n",
       "        3.02734375e-01,  7.99560547e-03,  8.59375000e-02, -2.91015625e-01,\n",
       "       -1.11328125e-01,  3.85742188e-02, -1.23046875e-01, -4.14062500e-01,\n",
       "       -1.55273438e-01, -6.12792969e-02, -1.55273438e-01, -1.76757812e-01,\n",
       "       -1.73828125e-01,  2.31445312e-01,  3.75976562e-02,  5.70312500e-01,\n",
       "        1.59912109e-02,  9.91210938e-02, -5.71289062e-02,  3.32031250e-01,\n",
       "       -2.95410156e-02, -1.11328125e-01,  1.88476562e-01, -4.22363281e-02,\n",
       "       -2.85156250e-01, -4.10156250e-01,  3.22265625e-01, -3.84765625e-01,\n",
       "        2.22656250e-01,  1.18164062e-01,  2.89306641e-02, -9.33837891e-03,\n",
       "        1.26953125e-01, -3.61328125e-01,  4.65393066e-04, -9.61914062e-02,\n",
       "       -2.91748047e-02,  1.77001953e-02,  2.85156250e-01, -1.29882812e-01,\n",
       "       -1.85546875e-01, -1.30859375e-01, -1.82617188e-01,  3.12500000e-01,\n",
       "        4.71191406e-02,  2.07519531e-02,  1.47460938e-01,  3.00781250e-01,\n",
       "       -1.60156250e-01, -1.66015625e-01,  2.81250000e-01,  1.91406250e-01,\n",
       "       -8.91113281e-03,  2.44140625e-02, -2.14843750e-01,  9.03320312e-02,\n",
       "        1.66992188e-01, -2.51953125e-01,  1.28906250e-01, -2.65625000e-01,\n",
       "        5.46875000e-02, -4.70703125e-01, -2.94921875e-01, -1.95312500e-01,\n",
       "       -1.11816406e-01,  4.80468750e-01, -2.17773438e-01, -9.81445312e-02,\n",
       "       -2.16796875e-01,  1.79687500e-01,  7.95898438e-02,  1.89208984e-02,\n",
       "        3.04687500e-01,  1.86523438e-01,  1.41601562e-01,  6.78710938e-02,\n",
       "        4.04296875e-01, -1.26953125e-01, -3.14453125e-01,  2.30468750e-01,\n",
       "       -3.71093750e-01, -4.35546875e-01,  3.26171875e-01, -2.75390625e-01,\n",
       "        1.67968750e-01,  1.24023438e-01, -3.61328125e-01, -2.80761719e-02,\n",
       "       -6.93359375e-02, -1.48437500e-01, -1.86523438e-01,  1.23535156e-01,\n",
       "        3.18359375e-01,  6.25000000e-02,  1.20605469e-01, -2.10937500e-01,\n",
       "       -6.12792969e-02,  1.93359375e-01,  4.39453125e-01,  4.44335938e-02,\n",
       "        2.55859375e-01, -1.09863281e-01, -2.23632812e-01,  5.81054688e-02,\n",
       "        1.31835938e-01,  5.78125000e-01, -2.81250000e-01,  1.07421875e-01,\n",
       "        1.21093750e-01,  1.37329102e-02, -1.61132812e-01, -3.14453125e-01,\n",
       "        6.13403320e-03,  2.87109375e-01,  6.44531250e-01,  1.27929688e-01,\n",
       "        1.96289062e-01, -2.43164062e-01,  3.51562500e-01, -9.37500000e-02,\n",
       "        1.53198242e-02, -3.93066406e-02, -6.68945312e-02, -1.07421875e-01,\n",
       "       -1.93359375e-01, -2.16796875e-01, -3.39843750e-01, -1.65039062e-01,\n",
       "        2.09960938e-01, -1.33789062e-01,  3.69140625e-01,  1.35742188e-01,\n",
       "       -3.10546875e-01,  1.58203125e-01, -3.47656250e-01,  9.61914062e-02,\n",
       "        9.57031250e-02,  1.57226562e-01, -1.34765625e-01, -5.58593750e-01,\n",
       "        3.24218750e-01,  4.04296875e-01,  1.65039062e-01,  3.24218750e-01,\n",
       "       -3.02734375e-01, -9.15527344e-03,  2.57812500e-01,  4.94140625e-01,\n",
       "       -7.12890625e-02, -3.02734375e-01,  3.12500000e-01,  5.32226562e-02,\n",
       "        2.69531250e-01,  4.23828125e-01, -1.08642578e-02,  2.91015625e-01,\n",
       "       -2.32421875e-01, -1.46484375e-01, -7.17773438e-02, -8.59375000e-02,\n",
       "       -1.22680664e-02, -1.94335938e-01,  3.88671875e-01,  1.34765625e-01,\n",
       "        2.71484375e-01,  1.53320312e-01,  1.89453125e-01, -4.07714844e-02,\n",
       "       -4.71191406e-02,  1.16699219e-01,  2.92968750e-01,  3.26171875e-01,\n",
       "        5.98144531e-02,  4.88281250e-01,  5.50781250e-01,  2.81250000e-01],\n",
       "      dtype=float32)"
      ]
     },
     "execution_count": 6,
     "metadata": {},
     "output_type": "execute_result"
    }
   ],
   "source": [
    "wv['influenza']"
   ]
  },
  {
   "cell_type": "markdown",
   "metadata": {},
   "source": [
    "### Retrieving the index\n",
    "It would be nice to know whether or not a word/phrase we're interested in is in the vocabulary. We can check by looking at the word index for the vocabulary.\n",
    "\n"
   ]
  },
  {
   "cell_type": "code",
   "execution_count": 9,
   "metadata": {},
   "outputs": [
    {
     "name": "stdout",
     "output_type": "stream",
     "text": [
      "</s>\n",
      "in\n",
      "for\n",
      "that\n",
      "is\n",
      "on\n",
      "##\n",
      "The\n",
      "with\n",
      "said\n",
      "was\n",
      "the\n",
      "at\n",
      "not\n",
      "as\n",
      "it\n",
      "be\n",
      "from\n",
      "by\n",
      "are\n"
     ]
    }
   ],
   "source": [
    "# index2word contains every word in the \n",
    "# vocabulary\n",
    "\n",
    "# let's look at the first 20\n",
    "for i in range(20):\n",
    "    print(wv.index_to_key[i])"
   ]
  },
  {
   "cell_type": "code",
   "execution_count": 10,
   "metadata": {},
   "outputs": [
    {
     "name": "stdout",
     "output_type": "stream",
     "text": [
      "['</s>', 'in', 'for', 'that', 'is', 'on', '##', 'The', 'with', 'said', 'was', 'the', 'at', 'not', 'as', 'it', 'be', 'from', 'by', 'are']\n"
     ]
    }
   ],
   "source": [
    "# wv.index2word is a list of the words/phrases in the vocab\n",
    "print(wv.index_to_key[:20])"
   ]
  },
  {
   "cell_type": "markdown",
   "metadata": {},
   "source": [
    "## Similarity Scores\n",
    "Similar to LSA Word2Vec can be used to find words that are similar to one another, which is useful for tasks like searching through a document for words related to a particular topic.\n",
    "\n",
    "Work through the following to learn how to use the pretrained Word2Vec to find both the similarity between pairs of words, as well as find the most similar words to a predefined set.\n",
    "\n",
    "### Calculating Similarities between pairs of word embeddings\n",
    "There are a few different ways you can calculate similarity scores between pairs of vectors. You'll work through them now."
   ]
  },
  {
   "cell_type": "code",
   "execution_count": 11,
   "metadata": {},
   "outputs": [
    {
     "name": "stdout",
     "output_type": "stream",
     "text": [
      "apple and orange 0.39203462\n",
      "apple and tomato 0.5608182\n"
     ]
    }
   ],
   "source": [
    "### similarity(word1, word2)\n",
    "## call wv.similarity for two words/phrases\n",
    "## Try and find the similarity between \"apple\" and\n",
    "## other fruits and vegetables you know\n",
    "print(\"apple and orange\",wv.similarity(\"apple\",\"orange\"))\n",
    "print(\"apple and tomato\",wv.similarity(\"apple\",\"tomato\"))"
   ]
  },
  {
   "cell_type": "code",
   "execution_count": 12,
   "metadata": {},
   "outputs": [
    {
     "data": {
      "text/plain": [
       "array([0.56081817, 0.5318406 , 0.3920346 , 0.64506968])"
      ]
     },
     "execution_count": 12,
     "metadata": {},
     "output_type": "execute_result"
    }
   ],
   "source": [
    "### cosine_similairties(vec1, array_of_vectors)\n",
    "## call wv.cosine_similarities for a vector and a collection of vectors\n",
    "## Create a numpy array where each row has the word embeddings \n",
    "## for the fruits and vegetables you were interested in\n",
    "## compare to the word embedding for \"apple\"\n",
    "embeddings = np.zeros((4,300))\n",
    "\n",
    "embeddings[0,:] = wv['tomato']\n",
    "embeddings[1,:] = wv['banana']\n",
    "embeddings[2,:] = wv['orange']\n",
    "embeddings[3,:] = wv['pear']\n",
    "\n",
    "wv.cosine_similarities(wv['apple'], embeddings)"
   ]
  },
  {
   "cell_type": "markdown",
   "metadata": {},
   "source": [
    "### Finding the most similar words\n",
    "Another problem you may be interested in is finding the words that are most similar to a given word or vector."
   ]
  },
  {
   "cell_type": "code",
   "execution_count": 13,
   "metadata": {},
   "outputs": [
    {
     "name": "stdout",
     "output_type": "stream",
     "text": [
      "jeans\n"
     ]
    }
   ],
   "source": [
    "print(wv.doesnt_match([\"apple\",\"banana\",\"grapes\",\"pear\",\"jeans\"]))"
   ]
  },
  {
   "cell_type": "markdown",
   "metadata": {},
   "source": [
    "### One of these things just doesn't belong\n",
    "Another fun feature is that you can put in a list of words and Word2Vec can pick out the one that doesn't belong."
   ]
  },
  {
   "cell_type": "code",
   "execution_count": null,
   "metadata": {},
   "outputs": [],
   "source": [
    "print(wv.doesnt_match([\"apple\",\"banana\",\"grapes\",\"pear\",\"jeans\"]))"
   ]
  },
  {
   "cell_type": "markdown",
   "metadata": {},
   "source": [
    "## Debunking Some Common Examples\n",
    "If you've ever heard of Word2Vec prior to this, you may have seen amazingly intuitive results like \"King\" - \"Man\" + \"Woman\" = \"Queen\".\n",
    "\n",
    "While such examples are certainly eye-catching let's see how they hold up in actuality. Note inspiration for this section comes from this blog post https://blog.esciencecenter.nl/king-man-woman-king-9a7fd2935a85.\n",
    "\n",
    "Use what you've learned above to test out the following \"equations\":\n",
    "\n",
    "* king - man + woman = queen\n",
    "* bigger - big + cold = colder\n",
    "* Einstein - scientist + Picasso = painter\n",
    "* Paris - France + Italy = Rome\n",
    "* lebron - cavs + lakers = kobe"
   ]
  },
  {
   "cell_type": "code",
   "execution_count": 14,
   "metadata": {},
   "outputs": [
    {
     "data": {
      "text/plain": [
       "[('king', 0.8449392318725586),\n",
       " ('queen', 0.7300517559051514),\n",
       " ('monarch', 0.645466148853302),\n",
       " ('princess', 0.6156251430511475),\n",
       " ('crown_prince', 0.5818676352500916),\n",
       " ('prince', 0.5777117609977722),\n",
       " ('kings', 0.5613663792610168),\n",
       " ('sultan', 0.5376775860786438),\n",
       " ('Queen_Consort', 0.5344247817993164),\n",
       " ('queens', 0.5289887189865112)]"
      ]
     },
     "execution_count": 14,
     "metadata": {},
     "output_type": "execute_result"
    }
   ],
   "source": [
    "vector = wv['king'] - wv['man'] + wv['woman']\n",
    "wv.similar_by_vector(vector)"
   ]
  },
  {
   "cell_type": "code",
   "execution_count": 15,
   "metadata": {},
   "outputs": [
    {
     "data": {
      "text/plain": [
       "[('cold', 0.7878133654594421),\n",
       " ('colder', 0.7053806185722351),\n",
       " ('warmer', 0.6308302283287048),\n",
       " ('colder_temperatures', 0.5584955215454102),\n",
       " ('cooler', 0.5487411022186279),\n",
       " ('chillier', 0.5474385619163513),\n",
       " ('chilly', 0.5405797958374023),\n",
       " ('Cold', 0.5328137874603271),\n",
       " ('frigid', 0.5286216735839844),\n",
       " ('snowier_winter', 0.5251795649528503)]"
      ]
     },
     "execution_count": 15,
     "metadata": {},
     "output_type": "execute_result"
    }
   ],
   "source": [
    "vector = wv['bigger'] - wv['big'] + wv['cold']\n",
    "wv.similar_by_vector(vector)"
   ]
  },
  {
   "cell_type": "code",
   "execution_count": 16,
   "metadata": {},
   "outputs": [
    {
     "data": {
      "text/plain": [
       "[('Milan', 0.7251641750335693),\n",
       " ('Rome', 0.7073156237602234),\n",
       " ('Italy', 0.6847635507583618),\n",
       " ('Paris', 0.6693719625473022),\n",
       " ('Palermo_Sicily', 0.6014109253883362),\n",
       " ('Italian', 0.596384584903717),\n",
       " ('Tuscany', 0.5672276020050049),\n",
       " ('Sicily', 0.5654013752937317),\n",
       " ('Bologna', 0.5645887851715088),\n",
       " ('Bologna_Italy', 0.5513801574707031)]"
      ]
     },
     "execution_count": 16,
     "metadata": {},
     "output_type": "execute_result"
    }
   ],
   "source": [
    "vector = wv['Paris'] - wv['France'] + wv['Italy']\n",
    "wv.similar_by_vector(vector)"
   ]
  },
  {
   "cell_type": "code",
   "execution_count": 17,
   "metadata": {},
   "outputs": [
    {
     "data": {
      "text/plain": [
       "[('lakers', 0.8796191811561584),\n",
       " ('lebron', 0.7018214464187622),\n",
       " ('laker', 0.612667441368103),\n",
       " ('celtics', 0.6117448210716248),\n",
       " ('shaq', 0.5856783986091614),\n",
       " ('kobe', 0.5744044780731201),\n",
       " ('gasol', 0.5545269846916199),\n",
       " ('bynum', 0.543467104434967),\n",
       " ('nba', 0.5254707336425781),\n",
       " ('mavs', 0.517430305480957)]"
      ]
     },
     "execution_count": 17,
     "metadata": {},
     "output_type": "execute_result"
    }
   ],
   "source": [
    "vector = wv['lebron'] - wv['cavs'] + wv['lakers']\n",
    "wv.similar_by_vector(vector)"
   ]
  },
  {
   "cell_type": "markdown",
   "metadata": {},
   "source": [
    "## Other Pretrained Models\n",
    "While we've looked at the Google News embedding there are a number of other pretrained Word2Vec embeddings that may be of interest.\n",
    "\n",
    "This Github repository has a nice list of the pretrained models you can get online, https://github.com/3Top/word2vec-api#where-to-get-a-pretrained-models.\n",
    "\n",
    "Here are the names from the gensim documentation."
   ]
  },
  {
   "cell_type": "code",
   "execution_count": 18,
   "metadata": {},
   "outputs": [],
   "source": [
    "# ['fasttext-wiki-news-subwords-300',\n",
    "#  'conceptnet-numberbatch-17-06-300',\n",
    "#  'word2vec-ruscorpora-300',\n",
    "#  'word2vec-google-news-300',\n",
    "#  'glove-wiki-gigaword-50',\n",
    "#  'glove-wiki-gigaword-100',\n",
    "#  'glove-wiki-gigaword-200',\n",
    "#  'glove-wiki-gigaword-300',\n",
    "#  'glove-twitter-25',\n",
    "#  'glove-twitter-50',\n",
    "#  'glove-twitter-100',\n",
    "#  'glove-twitter-200',\n",
    "#  '__testing_word2vec-matrix-synopsis']"
   ]
  },
  {
   "cell_type": "markdown",
   "metadata": {},
   "source": [
    "## Building Your Own Model\n",
    "`gensim` also offers the functionality to build your own Word2Vec model if you clean the data up. Let's demonstrate the process with a truly controversial example using Green Eggs and Ham by Dr. Seuss."
   ]
  },
  {
   "cell_type": "code",
   "execution_count": 19,
   "metadata": {},
   "outputs": [],
   "source": [
    "## Here is the text of Green Eggs and Ham\n",
    "seuss = '''\n",
    "\"I AM SAM. I AM SAM. SAM I AM.\n",
    "\n",
    "THAT SAM-I-AM! THAT SAM-I-AM! I DO NOT LIKE THAT SAM-I-AM!\n",
    "\n",
    "DO WOULD YOU LIKE GREEN EGGS AND HAM?\n",
    "\n",
    "I DO NOT LIKE THEM,SAM-I-AM.\n",
    "I DO NOT LIKE GREEN EGGS AND HAM.\n",
    "\n",
    "WOULD YOU LIKE THEM HERE OR THERE?\n",
    "\n",
    "I WOULD NOT LIKE THEM HERE OR THERE.\n",
    "I WOULD NOT LIKE THEM ANYWHERE.\n",
    "I DO NOT LIKE GREEN EGGS AND HAM.\n",
    "I DO NOT LIKE THEM, SAM-I-AM.\n",
    "\n",
    "WOULD YOU LIKE THEM IN A HOUSE?\n",
    "WOULD YOU LIKE THEN WITH A MOUSE?\n",
    "\n",
    "I DO NOT LIKE THEM IN A HOUSE.\n",
    "I DO NOT LIKE THEM WITH A MOUSE.\n",
    "I DO NOT LIKE THEM HERE OR THERE.\n",
    "I DO NOT LIKE THEM ANYWHERE.\n",
    "I DO NOT LIKE GREEN EGGS AND HAM.\n",
    "I DO NOT LIKE THEM, SAM-I-AM.\n",
    "\n",
    "WOULD YOU EAT THEM IN A BOX?\n",
    "WOULD YOU EAT THEM WITH A FOX?\n",
    "\n",
    "NOT IN A BOX. NOT WITH A FOX.\n",
    "NOT IN A HOUSE. NOT WITH A MOUSE.\n",
    "I WOULD NOT EAT THEM HERE OR THERE.\n",
    "I WOULD NOT EAT THEM ANYWHERE.\n",
    "I WOULD NOT EAT GREEN EGGS AND HAM.\n",
    "I DO NOT LIKE THEM, SAM-I-AM.\n",
    "\n",
    "WOULD YOU? COULD YOU? IN A CAR?\n",
    "EAT THEM! EAT THEM! HERE THEY ARE.\n",
    "\n",
    "I WOULD NOT, COULD NOT, IN A CAR.\n",
    "\n",
    "YOU MAY LIKE THEM. YOU WILL SEE.\n",
    "YOU MAY LIKE THEM IN A TREE!\n",
    "\n",
    "I WOULD NOT, COULD NOT IN A TREE.\n",
    "NOT IN A CAR! YOU LET ME BE.\n",
    "I DO NOT LIKE THEM IN A BOX.\n",
    "I DO NOT LIKE THEM WITH A FOX.\n",
    "I DO NOT LIKE THEM IN A HOUSE.\n",
    "I DO NOT LIKE THEM WITH A MOUSE.\n",
    "I DO NOT LIKE THEM HERE OR THERE.\n",
    "I DO NOT LIKE THEM ANYWHERE.\n",
    "I DO NOT LIKE GREEN EGGS AND HAM.\n",
    "I DO NOT LIKE THEM, SAM-I-AM.\n",
    "\n",
    "A TRAIN! A TRAIN! A TRAIN! A TRAIN!\n",
    "COULD YOU, WOULD YOU ON A TRAIN?\n",
    "\n",
    "NOT ON TRAIN! NOT IN A TREE!\n",
    "NOT IN A CAR! SAM! LET ME BE!\n",
    "I WOULD NOT, COULD NOT, IN A BOX.\n",
    "I WOULD NOT, COULD NOT, WITH A FOX.\n",
    "I WILL NOT EAT THEM IN A HOUSE.\n",
    "I WILL NOT EAT THEM HERE OR THERE.\n",
    "I WILL NOT EAT THEM ANYWHERE.\n",
    "I DO NOT EAT GREEM EGGS AND HAM.\n",
    "I DO NOT LIKE THEM, SAM-I-AM.\n",
    "\n",
    "SAY! IN THE DARK? HERE IN THE DARK!\n",
    "WOULD YOU, COULD YOU, IN THE DARK?\n",
    "\n",
    "I WOULD NOT, COULD NOT, IN THE DARK.\n",
    "\n",
    "WOULD YOU COULD YOU IN THE RAIN?\n",
    "\n",
    "I WOULD NOT, COULD NOT IN THE RAIN.\n",
    "NOT IN THE DARK. NOT ON A TRAIN.\n",
    "NOT IN A CAR. NOT IN A TREE.\n",
    "I DO NOT LIKE THEM, SAM, YOU SEE.\n",
    "NOT IN A HOUSE. NOT IN A BOX.\n",
    "NOT WITH A MOUSE. NOT WITH A FOX.\n",
    "I WILL NOT EAT THEM HERE OR THERE.\n",
    "I DO NOT LIKE THEM ANYWHERE!\n",
    "\n",
    "YOU DO NOT LIKE GREEN EGGS AND HAM?\n",
    "\n",
    "I DO NOT LIKE THEM, SAM-I-AM.\n",
    "\n",
    "COULD YOU, WOULD YOU, WITH A GOAT?\n",
    "\n",
    "I WOULD NOT, COULD NOT WITH A GOAT!\n",
    "\n",
    "WOULD YOU, COULD YOU, ON A BOAT?\n",
    "\n",
    "I COULD NOT, WOULD NOT, ON A BOAT.\n",
    "I WILL NOT, WILL NOT, WITH A GOAT.\n",
    "I WILL NOT EAT THEM IN THE RAIN.\n",
    "NOT IN THE DARK! NOT IN A TREE!\n",
    "NOT IN A CAR! YOU LET ME BE!\n",
    "I DO NOT LIKE THEM IN A BOX.\n",
    "I DO NOT LIKE THEM WITH A FOX.\n",
    "I WILL NOT EAT THEM IN A HOUSE.\n",
    "I DO NOT LIKE THEM WITH A MOUSE.\n",
    "I DO NOT LIKE THEM HERE OR THERE.\n",
    "I DO NOT LIKE THEM ANYWHERE!\n",
    "I DO NOT LIKE GREEN EGGS AND HAM!\n",
    "I DO NOT LIKE THEM, SAM-I-AM.\n",
    "\n",
    "YOU DO NOT LIKE THEM. SO YOU SAY.\n",
    "TRY THEM! TRY THEM! AND YOU MAY.\n",
    "TRY THEM AND YOU MAY, I SAY.\n",
    "\n",
    "sAM! IF YOU LET ME BE,\n",
    "I WILL TRY THEM. YOU WILL SEE.\n",
    "\n",
    "(... and he tries them ...)\n",
    "\n",
    "SAY! I LIKE GREEN EGGS AND HAM!\n",
    "I DO! I LIKE THEM, SAM-I-AM!\n",
    "AND I WOULD EAT THEM IN A BOAT.\n",
    "AND I WOULD EAT THEM WITH A GOAT...\n",
    "AND I WILL EAT THEM, IN THE RAIN.\n",
    "AND IN THE DARK. AND ON A TRAIN.\n",
    "AND IN A CAR. AND IN A TREE.\n",
    "THEY ARE SO GOOD, SO GOOD, YOU SEE!\n",
    "SO I WILL EAT THEM IN A BOX.\n",
    "AND I WILL EAT THEM WITH A FOX.\n",
    "AND I WILL EAT THEM IN A HOUSE.\n",
    "AND I WILL EAT THEM WITH A MOUSE.\n",
    "AND I WILL EAT THEM HERE AND THERE.\n",
    "SAY! I WILL EAT THEM ANYWHERE!\n",
    "I DO SO LIKE GREEN EGGS AND HAM!\n",
    "THANK YOU! THANK YOU, SAM I AM.\n",
    "'''"
   ]
  },
  {
   "cell_type": "code",
   "execution_count": 20,
   "metadata": {},
   "outputs": [],
   "source": [
    "# Here I clean it up a bit\n",
    "seuss = seuss.replace(\"\\n\",\"\").replace(\",\",\" \").replace('\"',\"\").replace(\"(\",\"\").replace(\")\",\"\")\n",
    "seuss = seuss.replace(\".\",\". \").replace(\"!\",\"! \").replace(\"?\",\"? \")"
   ]
  },
  {
   "cell_type": "code",
   "execution_count": 21,
   "metadata": {},
   "outputs": [
    {
     "name": "stdout",
     "output_type": "stream",
     "text": [
      "I AM SAM.  I AM SAM.  SAM I AM. THAT SAM-I-AM!  THAT SAM-I-AM!  I DO NOT LIKE THAT SAM-I-AM! DO WOULD YOU LIKE GREEN EGGS AND HAM? I DO NOT LIKE THEM SAM-I-AM. I DO NOT LIKE GREEN EGGS AND HAM. WOULD YOU LIKE THEM HERE OR THERE? I WOULD NOT LIKE THEM HERE OR THERE. I WOULD NOT LIKE THEM ANYWHERE. I DO NOT LIKE GREEN EGGS AND HAM. I DO NOT LIKE THEM  SAM-I-AM. WOULD YOU LIKE THEM IN A HOUSE? WOULD YOU LIKE THEN WITH A MOUSE? I DO NOT LIKE THEM IN A HOUSE. I DO NOT LIKE THEM WITH A MOUSE. I DO NOT LIKE THEM HERE OR THERE. I DO NOT LIKE THEM ANYWHERE. I DO NOT LIKE GREEN EGGS AND HAM. I DO NOT LIKE THEM  SAM-I-AM. WOULD YOU EAT THEM IN A BOX? WOULD YOU EAT THEM WITH A FOX? NOT IN A BOX.  NOT WITH A FOX. NOT IN A HOUSE.  NOT WITH A MOUSE. I WOULD NOT EAT THEM HERE OR THERE. I WOULD NOT EAT THEM ANYWHERE. I WOULD NOT EAT GREEN EGGS AND HAM. I DO NOT LIKE THEM  SAM-I-AM. WOULD YOU?  COULD YOU?  IN A CAR? EAT THEM!  EAT THEM!  HERE THEY ARE. I WOULD NOT  COULD NOT  IN A CAR. YOU MAY LIKE THEM.  YOU WILL SEE. YOU MAY LIKE THEM IN A TREE! I WOULD NOT  COULD NOT IN A TREE. NOT IN A CAR!  YOU LET ME BE. I DO NOT LIKE THEM IN A BOX. I DO NOT LIKE THEM WITH A FOX. I DO NOT LIKE THEM IN A HOUSE. I DO NOT LIKE THEM WITH A MOUSE. I DO NOT LIKE THEM HERE OR THERE. I DO NOT LIKE THEM ANYWHERE. I DO NOT LIKE GREEN EGGS AND HAM. I DO NOT LIKE THEM  SAM-I-AM. A TRAIN!  A TRAIN!  A TRAIN!  A TRAIN! COULD YOU  WOULD YOU ON A TRAIN? NOT ON TRAIN!  NOT IN A TREE! NOT IN A CAR!  SAM!  LET ME BE! I WOULD NOT  COULD NOT  IN A BOX. I WOULD NOT  COULD NOT  WITH A FOX. I WILL NOT EAT THEM IN A HOUSE. I WILL NOT EAT THEM HERE OR THERE. I WILL NOT EAT THEM ANYWHERE. I DO NOT EAT GREEM EGGS AND HAM. I DO NOT LIKE THEM  SAM-I-AM. SAY!  IN THE DARK?  HERE IN THE DARK! WOULD YOU  COULD YOU  IN THE DARK? I WOULD NOT  COULD NOT  IN THE DARK. WOULD YOU COULD YOU IN THE RAIN? I WOULD NOT  COULD NOT IN THE RAIN. NOT IN THE DARK.  NOT ON A TRAIN. NOT IN A CAR.  NOT IN A TREE. I DO NOT LIKE THEM  SAM  YOU SEE. NOT IN A HOUSE.  NOT IN A BOX. NOT WITH A MOUSE.  NOT WITH A FOX. I WILL NOT EAT THEM HERE OR THERE. I DO NOT LIKE THEM ANYWHERE! YOU DO NOT LIKE GREEN EGGS AND HAM? I DO NOT LIKE THEM  SAM-I-AM. COULD YOU  WOULD YOU  WITH A GOAT? I WOULD NOT  COULD NOT WITH A GOAT! WOULD YOU  COULD YOU  ON A BOAT? I COULD NOT  WOULD NOT  ON A BOAT. I WILL NOT  WILL NOT  WITH A GOAT. I WILL NOT EAT THEM IN THE RAIN. NOT IN THE DARK!  NOT IN A TREE! NOT IN A CAR!  YOU LET ME BE! I DO NOT LIKE THEM IN A BOX. I DO NOT LIKE THEM WITH A FOX. I WILL NOT EAT THEM IN A HOUSE. I DO NOT LIKE THEM WITH A MOUSE. I DO NOT LIKE THEM HERE OR THERE. I DO NOT LIKE THEM ANYWHERE! I DO NOT LIKE GREEN EGGS AND HAM! I DO NOT LIKE THEM  SAM-I-AM. YOU DO NOT LIKE THEM.  SO YOU SAY. TRY THEM!  TRY THEM!  AND YOU MAY. TRY THEM AND YOU MAY  I SAY. sAM!  IF YOU LET ME BE I WILL TRY THEM.  YOU WILL SEE. . . .  and he tries them . . . SAY!  I LIKE GREEN EGGS AND HAM! I DO!  I LIKE THEM  SAM-I-AM! AND I WOULD EAT THEM IN A BOAT. AND I WOULD EAT THEM WITH A GOAT. . . AND I WILL EAT THEM  IN THE RAIN. AND IN THE DARK.  AND ON A TRAIN. AND IN A CAR.  AND IN A TREE. THEY ARE SO GOOD  SO GOOD  YOU SEE! SO I WILL EAT THEM IN A BOX. AND I WILL EAT THEM WITH A FOX. AND I WILL EAT THEM IN A HOUSE. AND I WILL EAT THEM WITH A MOUSE. AND I WILL EAT THEM HERE AND THERE. SAY!  I WILL EAT THEM ANYWHERE! I DO SO LIKE GREEN EGGS AND HAM! THANK YOU!  THANK YOU  SAM I AM. \n"
     ]
    }
   ],
   "source": [
    "# The clean version\n",
    "print(seuss)"
   ]
  },
  {
   "cell_type": "code",
   "execution_count": 22,
   "metadata": {},
   "outputs": [],
   "source": [
    "# gensim only requires sequences of words in a sentence\n",
    "from nltk.tokenize import sent_tokenize\n",
    "from nltk import word_tokenize"
   ]
  },
  {
   "cell_type": "code",
   "execution_count": 23,
   "metadata": {},
   "outputs": [],
   "source": [
    "# let's give them just that\n",
    "sentences = [word_tokenize(sent) for sent in sent_tokenize(seuss)]"
   ]
  },
  {
   "cell_type": "code",
   "execution_count": 26,
   "metadata": {},
   "outputs": [],
   "source": [
    "# You train a Word2Vec model in gensim with\n",
    "# Word2Vec\n",
    "from gensim.models import Word2Vec"
   ]
  },
  {
   "cell_type": "code",
   "execution_count": 30,
   "metadata": {},
   "outputs": [],
   "source": [
    "import multiprocessing\n",
    "\n",
    "cores = multiprocessing.cpu_count() # Count the number of cores in a computer"
   ]
  },
  {
   "cell_type": "markdown",
   "metadata": {},
   "source": [
    "### Parameters\n",
    "\n",
    "* `min_count` = int - Ignores all words with total absolute frequency lower than this - (2, 100)\n",
    "* `window` = int - The maximum distance between the current and predicted word within a sentence. E.g. window words on the left and window words on the left of our target - (2, 10)\n",
    "* `size` = int - Dimensionality of the feature vectors. - (50, 300)\n",
    "* `sample` = float - The threshold for configuring which higher-frequency words are randomly downsampled. Highly influencial. - (0, 1e-5)\n",
    "* `alpha` = float - The initial learning rate - (0.01, 0.05)\n",
    "* `min_alpha` = float - Learning rate will linearly drop to min_alpha as training progresses. To set it: alpha - (min_alpha * epochs) ~ 0.00\n",
    "* `negative` = int - If > 0, negative sampling will be used, the int for negative specifies how many \"noise words\" should be drown. If set to 0, no negative sampling is used. - (5, 20)\n",
    "* `workers` = int - Use these many worker threads to train the model (=faster training with multicore machines)"
   ]
  },
  {
   "cell_type": "code",
   "execution_count": 36,
   "metadata": {},
   "outputs": [],
   "source": [
    "# This line makes a model\n",
    "# You first put in your sentences\n",
    "# then you can OPTIONALLY specify a number of parameters\n",
    "# vector_size is the size of the hidden layer\n",
    "# window is the size of the skip-gram window\n",
    "# min_count sets a minimum number of times that a word has to appear\n",
    "model = Word2Vec(sentences = sentences, \n",
    "                     window=1, \n",
    "                     min_count=1)"
   ]
  },
  {
   "cell_type": "code",
   "execution_count": 37,
   "metadata": {},
   "outputs": [
    {
     "data": {
      "text/plain": [
       "array([-1.8335080e-03, -3.6692363e-03, -4.4667190e-03, -4.4844942e-03,\n",
       "       -5.4504629e-03, -5.7248897e-03, -7.9307184e-03,  1.0403933e-02,\n",
       "        6.0576736e-03, -4.2591104e-03,  2.6673831e-03, -8.1059700e-03,\n",
       "        7.6808184e-03,  8.6215511e-03,  1.1056619e-03, -7.0835459e-03,\n",
       "       -2.5074102e-03,  4.6011433e-03, -3.2659450e-03,  2.4875356e-03,\n",
       "        9.6991397e-03,  4.3403022e-03, -4.5572654e-03,  5.4771909e-03,\n",
       "       -3.0299951e-03, -6.4314143e-03,  6.6607306e-03, -9.1410596e-03,\n",
       "       -1.3413969e-03, -1.3787008e-03, -8.2133701e-03, -1.3494280e-03,\n",
       "        5.8000386e-03, -6.0228663e-03, -7.1120830e-03,  6.8435874e-03,\n",
       "       -3.3041353e-03, -7.8698359e-03, -1.4567543e-04, -1.3410054e-04,\n",
       "        7.8134621e-03,  3.9136433e-04,  7.7017015e-03, -9.5348051e-03,\n",
       "        4.3336679e-03,  6.0064094e-03,  9.1328181e-04, -3.1854496e-03,\n",
       "        1.1199160e-03, -6.0905213e-04, -7.8726308e-03, -7.0880516e-03,\n",
       "        9.4409636e-04, -2.2165747e-03,  9.5937811e-03, -1.0977199e-03,\n",
       "        6.2678442e-03,  1.9618219e-03,  8.1396354e-03, -9.3982508e-03,\n",
       "        2.4126831e-03, -1.6014680e-03,  2.8004127e-03, -7.1198221e-05,\n",
       "       -6.9619380e-03,  9.5020011e-03, -3.0420639e-03,  2.4002751e-03,\n",
       "       -6.9947448e-03,  3.8725017e-03,  1.0241799e-02, -8.9442683e-04,\n",
       "        6.9625066e-03,  2.0562051e-04,  8.2466817e-03,  9.6510677e-03,\n",
       "       -3.4050614e-04, -1.4574128e-03, -9.6268058e-03,  9.6914414e-03,\n",
       "       -3.1489625e-03,  2.2681602e-03, -1.8776559e-03,  8.5981404e-03,\n",
       "        8.1291115e-03,  1.3157729e-03,  3.3803545e-03,  6.5088086e-03,\n",
       "        2.4200396e-03,  6.5562800e-03,  3.6139393e-04, -2.2297786e-03,\n",
       "        5.4227910e-03, -3.3927946e-03, -1.9246077e-03,  8.8986605e-03,\n",
       "       -9.2982482e-03, -3.5100402e-03, -2.8989979e-03,  5.5498155e-03],\n",
       "      dtype=float32)"
      ]
     },
     "execution_count": 37,
     "metadata": {},
     "output_type": "execute_result"
    }
   ],
   "source": [
    "model.wv['SAM']"
   ]
  },
  {
   "cell_type": "code",
   "execution_count": 38,
   "metadata": {},
   "outputs": [
    {
     "data": {
      "text/plain": [
       "array([ 0.00113743,  0.00686352,  0.01001572,  0.00927828, -0.00780672,\n",
       "        0.0061011 , -0.00562365, -0.0002332 ,  0.00019445,  0.00595561,\n",
       "        0.0046361 ,  0.00415446,  0.00959406,  0.00063888, -0.00571437,\n",
       "       -0.00651644,  0.00680376, -0.00533495, -0.00309005,  0.00348334,\n",
       "       -0.00215561, -0.00599159, -0.00192431,  0.00114807,  0.00208947,\n",
       "        0.00608267, -0.00568869,  0.00324019,  0.00711634,  0.00217023,\n",
       "        0.0055585 , -0.00504116,  0.00623016, -0.0081352 ,  0.00334511,\n",
       "       -0.00883773, -0.00245555, -0.00906668, -0.00192501, -0.00546587,\n",
       "       -0.00371054,  0.00101317,  0.00262924, -0.00124675, -0.00800904,\n",
       "       -0.00610413,  0.00070493, -0.00421979, -0.00937551, -0.00056603,\n",
       "        0.00695632,  0.00562716, -0.01009007,  0.00297711, -0.00606834,\n",
       "       -0.00925559,  0.00028271, -0.00040779, -0.00693433, -0.00636747,\n",
       "       -0.00250179,  0.00702521, -0.00690999,  0.00782987, -0.00074454,\n",
       "        0.00153528,  0.00931027,  0.00503959, -0.0040732 ,  0.00378772,\n",
       "        0.00363784,  0.00662579,  0.00039927, -0.00417744,  0.00156493,\n",
       "       -0.00541122,  0.00137883,  0.00510923,  0.00499794,  0.0090557 ,\n",
       "       -0.00805186, -0.0052836 ,  0.00630209,  0.00153421, -0.00677301,\n",
       "        0.00079125,  0.0031052 , -0.00252455, -0.0047881 ,  0.00515854,\n",
       "        0.00986665, -0.0072773 , -0.00011175, -0.00243712, -0.00569361,\n",
       "       -0.00134986, -0.00534453,  0.00904361, -0.00582421,  0.00363255],\n",
       "      dtype=float32)"
      ]
     },
     "execution_count": 38,
     "metadata": {},
     "output_type": "execute_result"
    }
   ],
   "source": [
    "model.wv['EGGS']"
   ]
  },
  {
   "cell_type": "code",
   "execution_count": 39,
   "metadata": {},
   "outputs": [
    {
     "data": {
      "text/plain": [
       "[('FOX', 0.20511563122272491),\n",
       " ('I', 0.18071936070919037),\n",
       " ('AND', 0.1534055918455124),\n",
       " ('COULD', 0.12676802277565002),\n",
       " ('LIKE', 0.12494883686304092),\n",
       " ('tries', 0.11725952476263046),\n",
       " ('.', 0.11654206365346909),\n",
       " ('SEE', 0.10057325661182404),\n",
       " ('HOUSE', 0.09586508572101593),\n",
       " ('SAM', 0.09576644748449326)]"
      ]
     },
     "execution_count": 39,
     "metadata": {},
     "output_type": "execute_result"
    }
   ],
   "source": [
    "model.wv.most_similar(['HAM'])"
   ]
  },
  {
   "cell_type": "markdown",
   "metadata": {},
   "source": [
    "Since we spent so much time and energy training this model we may want to save it."
   ]
  },
  {
   "cell_type": "code",
   "execution_count": 40,
   "metadata": {},
   "outputs": [],
   "source": [
    "model.save(\"green_eggs_and_ham.model\")"
   ]
  },
  {
   "cell_type": "markdown",
   "metadata": {},
   "source": [
    "We can load it later."
   ]
  },
  {
   "cell_type": "code",
   "execution_count": 41,
   "metadata": {},
   "outputs": [],
   "source": [
    "model = Word2Vec.load(\"green_eggs_and_ham.model\")"
   ]
  },
  {
   "cell_type": "markdown",
   "metadata": {},
   "source": [
    "Now when training an actual model you'll likely want to know all the bells and whistles for tuning the model. You can find all that and more here: https://radimrehurek.com/gensim/models/word2vec.html?highlight=word2vec#module-gensim.models.word2vec\n",
    "\n",
    "## An Improvement on Word2Vec\n",
    "A nice improvement on Word2Vec was made by Facebook researchers (including Mikolov) called, fasttext, https://arxiv.org/abs/1607.04606.\n",
    "\n",
    "The key idea to the improvement was to replace words and phrases as the base unit input layer with partial character -grams of words. For example instead of \"apples\" they used things like \"app\", \"ppl\", \"ple\", and \"les\".\n",
    "\n",
    "This is also implementable with gensim. Here is the documentation, https://radimrehurek.com/gensim_3.8.3/models/fasttext.html.\n",
    "\n",
    "Below I'll demonstrate Facebook's pretrained model trained on Wikipedia. Note don't try and run this code right now because it takes a long time to download the model. Just watch the code, and if you're interested in the model you can always play with it later."
   ]
  },
  {
   "cell_type": "code",
   "execution_count": 42,
   "metadata": {},
   "outputs": [
    {
     "name": "stdout",
     "output_type": "stream",
     "text": [
      "[=================================================-] 100.0% 958.2/958.4MB downloaded\n"
     ]
    }
   ],
   "source": [
    "ft = api.load('fasttext-wiki-news-subwords-300')"
   ]
  },
  {
   "cell_type": "code",
   "execution_count": 43,
   "metadata": {},
   "outputs": [
    {
     "name": "stdout",
     "output_type": "stream",
     "text": [
      ",\n",
      "the\n",
      ".\n",
      "and\n",
      "of\n",
      "to\n",
      "in\n",
      "a\n",
      "\"\n",
      ":\n",
      ")\n",
      "that\n",
      "(\n",
      "is\n",
      "for\n",
      "on\n",
      "*\n",
      "with\n",
      "as\n",
      "it\n"
     ]
    }
   ],
   "source": [
    "## Let's look at the top 20 words\n",
    "for i in range(20):\n",
    "    print(ft.index_to_key[i])"
   ]
  },
  {
   "cell_type": "code",
   "execution_count": 44,
   "metadata": {},
   "outputs": [
    {
     "data": {
      "text/plain": [
       "[('apples', 0.8046640753746033),\n",
       " ('pear', 0.6897592544555664),\n",
       " ('peach', 0.6626990437507629),\n",
       " ('fruit', 0.6596963405609131),\n",
       " ('apple-', 0.6546189785003662),\n",
       " ('appley', 0.6466962099075317),\n",
       " ('pippin', 0.6454442143440247),\n",
       " ('pome', 0.6110042333602905),\n",
       " ('apple-tree', 0.6037725210189819),\n",
       " ('berry', 0.602673351764679),\n",
       " ('applesauce', 0.6012105345726013),\n",
       " ('applejack', 0.6003251075744629),\n",
       " ('starfruit', 0.5956475734710693),\n",
       " ('cherry', 0.594257116317749),\n",
       " ('strawberry', 0.5939095616340637),\n",
       " ('banana', 0.5924690961837769),\n",
       " ('pears', 0.5920964479446411),\n",
       " ('currant', 0.59149169921875),\n",
       " ('crabapple', 0.5898768305778503),\n",
       " ('watermelon', 0.5855808258056641)]"
      ]
     },
     "execution_count": 44,
     "metadata": {},
     "output_type": "execute_result"
    }
   ],
   "source": [
    "## And just to note we can use this model in exactly\n",
    "## the same way as Word2Vec\n",
    "ft.similar_by_word(\"apple\",topn=20)"
   ]
  },
  {
   "cell_type": "code",
   "execution_count": 45,
   "metadata": {},
   "outputs": [
    {
     "data": {
      "text/plain": [
       "[('ppls', 0.7948858737945557),\n",
       " ('ppl.', 0.7874938249588013),\n",
       " ('poeple', 0.761584997177124),\n",
       " ('pplz', 0.7385753989219666),\n",
       " ('peolpe', 0.6922174096107483),\n",
       " ('people.I', 0.687359631061554),\n",
       " ('pple', 0.6842299103736877),\n",
       " ('peole', 0.6832447052001953),\n",
       " ('peopl', 0.6651833057403564),\n",
       " ('peple', 0.6493471264839172),\n",
       " ('people.', 0.6474063396453857),\n",
       " ('peope', 0.6439474821090698),\n",
       " ('americans', 0.6331156492233276),\n",
       " ('guys.', 0.624374270439148),\n",
       " ('peopel', 0.6218089461326599),\n",
       " ('evryone', 0.621412456035614),\n",
       " ('peolple', 0.6154645085334778),\n",
       " ('brits', 0.6141127347946167),\n",
       " ('guyz', 0.6072280406951904),\n",
       " ('coz', 0.5926057696342468)]"
      ]
     },
     "execution_count": 45,
     "metadata": {},
     "output_type": "execute_result"
    }
   ],
   "source": [
    "ft.similar_by_word(\"ppl\",topn=20)"
   ]
  },
  {
   "cell_type": "code",
   "execution_count": 46,
   "metadata": {},
   "outputs": [
    {
     "data": {
      "text/plain": [
       "[('king', 0.8185327053070068),\n",
       " ('queen', 0.7570335865020752),\n",
       " ('queen-mother', 0.6896809339523315),\n",
       " ('king-', 0.6787333488464355),\n",
       " ('queen-consort', 0.6555202603340149)]"
      ]
     },
     "execution_count": 46,
     "metadata": {},
     "output_type": "execute_result"
    }
   ],
   "source": [
    "test = ft['king'] - ft['man'] + ft['woman']\n",
    "ft.similar_by_vector(test,topn=5)"
   ]
  },
  {
   "cell_type": "markdown",
   "metadata": {},
   "source": [
    "That's it for this notebook. I hope you enjoyed playing around with `gensim`'s word embedding models!"
   ]
  },
  {
   "cell_type": "code",
   "execution_count": null,
   "metadata": {},
   "outputs": [],
   "source": []
  }
 ],
 "metadata": {
  "kernelspec": {
   "display_name": "Python 3",
   "language": "python",
   "name": "python3"
  },
  "language_info": {
   "codemirror_mode": {
    "name": "ipython",
    "version": 3
   },
   "file_extension": ".py",
   "mimetype": "text/x-python",
   "name": "python",
   "nbconvert_exporter": "python",
   "pygments_lexer": "ipython3",
   "version": "3.8.5"
  }
 },
 "nbformat": 4,
 "nbformat_minor": 4
}
