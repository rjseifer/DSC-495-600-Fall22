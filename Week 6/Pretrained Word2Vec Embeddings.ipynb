{
 "cells": [
  {
   "cell_type": "markdown",
   "metadata": {},
   "source": [
    "[Pretrained Word2Vec Embeddings](#Pretrained-Word2Vec-Embeddings)   \n",
    "\n",
    "1. [Google News Embedding](#Google-News-Embedding)    \n",
    "2. [Similarity Scores](#Similarity-Scores)    \n",
    "3. [Debunking Some Common Examples](#Debunking-Some-Common-Examples)\n",
    "4. [Other Pretrained Models](Other-Pretrained-Models)\n",
    "5. [Building Your Own Model](Building-Your-Own-Model)\n",
    "\n",
    "\n",
    "\n",
    "# Pretrained Word2Vec Embeddings\n",
    "\n",
    "Now that we have a better feel for the model behind Word2Vec we'll see how we can implement word embeddings developed by teams with more computational resources than most everyone has at home.\n",
    "\n",
    "We'll be using `gensim` and more or less working through the tutorial in their documentation here https://radimrehurek.com/gensim/auto_examples/tutorials/run_word2vec.html. I'll also try my best to pull in some examples from Mikolov et. al.'s original papers.\n",
    "\n",
    "First things first, please try running the following code."
   ]
  },
  {
   "cell_type": "code",
   "execution_count": null,
   "metadata": {},
   "outputs": [],
   "source": [
    "import numpy as np"
   ]
  },
  {
   "cell_type": "code",
   "execution_count": null,
   "metadata": {},
   "outputs": [],
   "source": [
    "import gensim.downloader as api"
   ]
  },
  {
   "cell_type": "code",
   "execution_count": null,
   "metadata": {},
   "outputs": [],
   "source": [
    "wv = api.load('word2vec-google-news-300')"
   ]
  },
  {
   "cell_type": "markdown",
   "metadata": {},
   "source": [
    "The above code takes a bit to run, and takes a long while to run if it's your first time running it (the model is approximately 2GB). So please hit shift + enter now while I'm talking so it will load in time for our first coding break.\n",
    "\n",
    "## Google News Embedding\n",
    "The model we just loaded using gensim was built by Google using their Google News dataset. Their network was trained with a vocabulary of 3 million words and phrases using.\n",
    "\n",
    "These 3 million dimensional one hot encoded vectors were then projected down to 300 features, meaning that each word vector in the embedding has 300 dimensions. Using the language from `Last week's class` their $M = 3,000,000$ and their #N= 300#.\n",
    "\n",
    "### Accessing the Word Vectors\n",
    "Once the above has loaded you can access the embedding of any word or phrase in the embedding by simply calling wv[string]. Let's see"
   ]
  },
  {
   "cell_type": "code",
   "execution_count": null,
   "metadata": {},
   "outputs": [],
   "source": [
    "wv['man']"
   ]
  },
  {
   "cell_type": "code",
   "execution_count": null,
   "metadata": {},
   "outputs": [],
   "source": [
    "wv['woman']"
   ]
  },
  {
   "cell_type": "code",
   "execution_count": null,
   "metadata": {},
   "outputs": [],
   "source": [
    "wv['influenza']"
   ]
  },
  {
   "cell_type": "markdown",
   "metadata": {},
   "source": [
    "### Retrieving the index\n",
    "It would be nice to know whether or not a word/phrase we're interested in is in the vocabulary. We can check by looking at the word index for the vocabulary.\n",
    "\n"
   ]
  },
  {
   "cell_type": "code",
   "execution_count": null,
   "metadata": {},
   "outputs": [],
   "source": [
    "# index2word contains every word in the \n",
    "# vocabulary\n",
    "\n",
    "# let's look at the first 20\n",
    "for i in range(20):\n",
    "    print(wv.index_to_key[i])"
   ]
  },
  {
   "cell_type": "code",
   "execution_count": null,
   "metadata": {},
   "outputs": [],
   "source": [
    "# wv.index2word is a list of the words/phrases in the vocab\n",
    "print(wv.index_to_key[:20])"
   ]
  },
  {
   "cell_type": "markdown",
   "metadata": {},
   "source": [
    "## Similarity Scores\n",
    "Similar to LSA Word2Vec can be used to find words that are similar to one another, which is useful for tasks like searching through a document for words related to a particular topic.\n",
    "\n",
    "Work through the following to learn how to use the pretrained Word2Vec to find both the similarity between pairs of words, as well as find the most similar words to a predefined set.\n",
    "\n",
    "### Calculating Similarities between pairs of word embeddings\n",
    "There are a few different ways you can calculate similarity scores between pairs of vectors. You'll work through them now."
   ]
  },
  {
   "cell_type": "code",
   "execution_count": null,
   "metadata": {},
   "outputs": [],
   "source": [
    "### similarity(word1, word2)\n",
    "## call wv.similarity for two words/phrases\n",
    "## Try and find the similarity between \"apple\" and\n",
    "## other fruits and vegetables you know"
   ]
  },
  {
   "cell_type": "code",
   "execution_count": null,
   "metadata": {},
   "outputs": [],
   "source": [
    "### cosine_similairties(vec1, array_of_vectors)\n",
    "## call wv.cosine_similarities for a vector and a collection of vectors\n",
    "## Create a numpy array where each row has the word embeddings \n",
    "## for the fruits and vegetables you were interested in\n",
    "## compare to the word embedding for \"apple\""
   ]
  },
  {
   "cell_type": "markdown",
   "metadata": {},
   "source": [
    "### Finding the most similar words\n",
    "Another problem you may be interested in is finding the words that are most similar to a given word or vector."
   ]
  },
  {
   "cell_type": "code",
   "execution_count": null,
   "metadata": {},
   "outputs": [],
   "source": [
    "## You can find the most similar words to a given word\n",
    "## using wv.similar_by_word(word)\n",
    "## try it out with \"apple\""
   ]
  },
  {
   "cell_type": "code",
   "execution_count": null,
   "metadata": {},
   "outputs": [],
   "source": [
    "## You can control how many words are returned with topn\n",
    "## Get the 25 most similar words to \"apple\""
   ]
  },
  {
   "cell_type": "code",
   "execution_count": null,
   "metadata": {},
   "outputs": [],
   "source": [
    "## You can also do this for a collection of words\n",
    "## with wv.most_similar(list_of_words)\n",
    "## try running this on the list [\"apple\",\"pie\"]\n",
    "## and the list [\"apple\",\"computer\"]"
   ]
  },
  {
   "cell_type": "code",
   "execution_count": null,
   "metadata": {},
   "outputs": [],
   "source": [
    "## Sometimes you may not have a word, but rather a vector\n",
    "## You can find the words most similar to that vector with\n",
    "## wv.similar_by_vector(vec)\n",
    "## Find the words most similar to the test vector below\n",
    "test = 2*np.random.random(300)-1\n",
    "\n",
    "## Code here"
   ]
  },
  {
   "cell_type": "markdown",
   "metadata": {},
   "source": [
    "One of these things just doesn't belong\n",
    "Another fun feature is that you can put in a list of words and Word2Vec can pick out the one that doesn't belong."
   ]
  },
  {
   "cell_type": "code",
   "execution_count": null,
   "metadata": {},
   "outputs": [],
   "source": [
    "print(wv.doesnt_match([\"apple\",\"banana\",\"grapes\",\"pear\",\"jeans\"]))"
   ]
  },
  {
   "cell_type": "markdown",
   "metadata": {},
   "source": [
    "## Debunking Some Common Examples\n",
    "If you've ever heard of Word2Vec prior to this, you may have seen amazingly intuitive results like \"King\" - \"Man\" + \"Woman\" = \"Queen\".\n",
    "\n",
    "While such examples are certainly eye-catching let's see how they hold up in actuality. Note inspiration for this section comes from this blog post https://blog.esciencecenter.nl/king-man-woman-king-9a7fd2935a85.\n",
    "\n",
    "Use what you've learned above to test out the following \"equations\":\n",
    "\n",
    "* king - man + woman = queen\n",
    "* bigger - big + cold = colder\n",
    "* Einstein - scientist + Picasso = painter\n",
    "* Paris - France + Italy = Rome\n",
    "* lebron - cavs + lakers = kobe"
   ]
  },
  {
   "cell_type": "code",
   "execution_count": null,
   "metadata": {},
   "outputs": [],
   "source": [
    "## Code here"
   ]
  },
  {
   "cell_type": "code",
   "execution_count": null,
   "metadata": {},
   "outputs": [],
   "source": [
    "## Code here"
   ]
  },
  {
   "cell_type": "code",
   "execution_count": null,
   "metadata": {},
   "outputs": [],
   "source": [
    "## Code here"
   ]
  },
  {
   "cell_type": "code",
   "execution_count": null,
   "metadata": {},
   "outputs": [],
   "source": [
    "## Code here"
   ]
  },
  {
   "cell_type": "markdown",
   "metadata": {},
   "source": [
    "## Other Pretrained Models\n",
    "While we've looked at the Google News embedding there are a number of other pretrained Word2Vec embeddings that may be of interest.\n",
    "\n",
    "This Github repository has a nice list of the pretrained models you can get online, https://github.com/3Top/word2vec-api#where-to-get-a-pretrained-models.\n",
    "\n",
    "Here are the names from the gensim documentation."
   ]
  },
  {
   "cell_type": "code",
   "execution_count": null,
   "metadata": {},
   "outputs": [],
   "source": [
    "# ['fasttext-wiki-news-subwords-300',\n",
    "#  'conceptnet-numberbatch-17-06-300',\n",
    "#  'word2vec-ruscorpora-300',\n",
    "#  'word2vec-google-news-300',\n",
    "#  'glove-wiki-gigaword-50',\n",
    "#  'glove-wiki-gigaword-100',\n",
    "#  'glove-wiki-gigaword-200',\n",
    "#  'glove-wiki-gigaword-300',\n",
    "#  'glove-twitter-25',\n",
    "#  'glove-twitter-50',\n",
    "#  'glove-twitter-100',\n",
    "#  'glove-twitter-200',\n",
    "#  '__testing_word2vec-matrix-synopsis']"
   ]
  },
  {
   "cell_type": "markdown",
   "metadata": {},
   "source": [
    "## Building Your Own Model\n",
    "`gensim` also offers the functionality to build your own Word2Vec model if you clean the data up. Let's demonstrate the process with a truly controversial example using Green Eggs and Ham by Dr. Seuss."
   ]
  },
  {
   "cell_type": "code",
   "execution_count": null,
   "metadata": {},
   "outputs": [],
   "source": [
    "## Here is the text of Green Eggs and Ham\n",
    "seuss = '''\n",
    "\"I AM SAM. I AM SAM. SAM I AM.\n",
    "\n",
    "THAT SAM-I-AM! THAT SAM-I-AM! I DO NOT LIKE THAT SAM-I-AM!\n",
    "\n",
    "DO WOULD YOU LIKE GREEN EGGS AND HAM?\n",
    "\n",
    "I DO NOT LIKE THEM,SAM-I-AM.\n",
    "I DO NOT LIKE GREEN EGGS AND HAM.\n",
    "\n",
    "WOULD YOU LIKE THEM HERE OR THERE?\n",
    "\n",
    "I WOULD NOT LIKE THEM HERE OR THERE.\n",
    "I WOULD NOT LIKE THEM ANYWHERE.\n",
    "I DO NOT LIKE GREEN EGGS AND HAM.\n",
    "I DO NOT LIKE THEM, SAM-I-AM.\n",
    "\n",
    "WOULD YOU LIKE THEM IN A HOUSE?\n",
    "WOULD YOU LIKE THEN WITH A MOUSE?\n",
    "\n",
    "I DO NOT LIKE THEM IN A HOUSE.\n",
    "I DO NOT LIKE THEM WITH A MOUSE.\n",
    "I DO NOT LIKE THEM HERE OR THERE.\n",
    "I DO NOT LIKE THEM ANYWHERE.\n",
    "I DO NOT LIKE GREEN EGGS AND HAM.\n",
    "I DO NOT LIKE THEM, SAM-I-AM.\n",
    "\n",
    "WOULD YOU EAT THEM IN A BOX?\n",
    "WOULD YOU EAT THEM WITH A FOX?\n",
    "\n",
    "NOT IN A BOX. NOT WITH A FOX.\n",
    "NOT IN A HOUSE. NOT WITH A MOUSE.\n",
    "I WOULD NOT EAT THEM HERE OR THERE.\n",
    "I WOULD NOT EAT THEM ANYWHERE.\n",
    "I WOULD NOT EAT GREEN EGGS AND HAM.\n",
    "I DO NOT LIKE THEM, SAM-I-AM.\n",
    "\n",
    "WOULD YOU? COULD YOU? IN A CAR?\n",
    "EAT THEM! EAT THEM! HERE THEY ARE.\n",
    "\n",
    "I WOULD NOT, COULD NOT, IN A CAR.\n",
    "\n",
    "YOU MAY LIKE THEM. YOU WILL SEE.\n",
    "YOU MAY LIKE THEM IN A TREE!\n",
    "\n",
    "I WOULD NOT, COULD NOT IN A TREE.\n",
    "NOT IN A CAR! YOU LET ME BE.\n",
    "I DO NOT LIKE THEM IN A BOX.\n",
    "I DO NOT LIKE THEM WITH A FOX.\n",
    "I DO NOT LIKE THEM IN A HOUSE.\n",
    "I DO NOT LIKE THEM WITH A MOUSE.\n",
    "I DO NOT LIKE THEM HERE OR THERE.\n",
    "I DO NOT LIKE THEM ANYWHERE.\n",
    "I DO NOT LIKE GREEN EGGS AND HAM.\n",
    "I DO NOT LIKE THEM, SAM-I-AM.\n",
    "\n",
    "A TRAIN! A TRAIN! A TRAIN! A TRAIN!\n",
    "COULD YOU, WOULD YOU ON A TRAIN?\n",
    "\n",
    "NOT ON TRAIN! NOT IN A TREE!\n",
    "NOT IN A CAR! SAM! LET ME BE!\n",
    "I WOULD NOT, COULD NOT, IN A BOX.\n",
    "I WOULD NOT, COULD NOT, WITH A FOX.\n",
    "I WILL NOT EAT THEM IN A HOUSE.\n",
    "I WILL NOT EAT THEM HERE OR THERE.\n",
    "I WILL NOT EAT THEM ANYWHERE.\n",
    "I DO NOT EAT GREEM EGGS AND HAM.\n",
    "I DO NOT LIKE THEM, SAM-I-AM.\n",
    "\n",
    "SAY! IN THE DARK? HERE IN THE DARK!\n",
    "WOULD YOU, COULD YOU, IN THE DARK?\n",
    "\n",
    "I WOULD NOT, COULD NOT, IN THE DARK.\n",
    "\n",
    "WOULD YOU COULD YOU IN THE RAIN?\n",
    "\n",
    "I WOULD NOT, COULD NOT IN THE RAIN.\n",
    "NOT IN THE DARK. NOT ON A TRAIN.\n",
    "NOT IN A CAR. NOT IN A TREE.\n",
    "I DO NOT LIKE THEM, SAM, YOU SEE.\n",
    "NOT IN A HOUSE. NOT IN A BOX.\n",
    "NOT WITH A MOUSE. NOT WITH A FOX.\n",
    "I WILL NOT EAT THEM HERE OR THERE.\n",
    "I DO NOT LIKE THEM ANYWHERE!\n",
    "\n",
    "YOU DO NOT LIKE GREEN EGGS AND HAM?\n",
    "\n",
    "I DO NOT LIKE THEM, SAM-I-AM.\n",
    "\n",
    "COULD YOU, WOULD YOU, WITH A GOAT?\n",
    "\n",
    "I WOULD NOT, COULD NOT WITH A GOAT!\n",
    "\n",
    "WOULD YOU, COULD YOU, ON A BOAT?\n",
    "\n",
    "I COULD NOT, WOULD NOT, ON A BOAT.\n",
    "I WILL NOT, WILL NOT, WITH A GOAT.\n",
    "I WILL NOT EAT THEM IN THE RAIN.\n",
    "NOT IN THE DARK! NOT IN A TREE!\n",
    "NOT IN A CAR! YOU LET ME BE!\n",
    "I DO NOT LIKE THEM IN A BOX.\n",
    "I DO NOT LIKE THEM WITH A FOX.\n",
    "I WILL NOT EAT THEM IN A HOUSE.\n",
    "I DO NOT LIKE THEM WITH A MOUSE.\n",
    "I DO NOT LIKE THEM HERE OR THERE.\n",
    "I DO NOT LIKE THEM ANYWHERE!\n",
    "I DO NOT LIKE GREEN EGGS AND HAM!\n",
    "I DO NOT LIKE THEM, SAM-I-AM.\n",
    "\n",
    "YOU DO NOT LIKE THEM. SO YOU SAY.\n",
    "TRY THEM! TRY THEM! AND YOU MAY.\n",
    "TRY THEM AND YOU MAY, I SAY.\n",
    "\n",
    "sAM! IF YOU LET ME BE,\n",
    "I WILL TRY THEM. YOU WILL SEE.\n",
    "\n",
    "(... and he tries them ...)\n",
    "\n",
    "SAY! I LIKE GREEN EGGS AND HAM!\n",
    "I DO! I LIKE THEM, SAM-I-AM!\n",
    "AND I WOULD EAT THEM IN A BOAT.\n",
    "AND I WOULD EAT THEM WITH A GOAT...\n",
    "AND I WILL EAT THEM, IN THE RAIN.\n",
    "AND IN THE DARK. AND ON A TRAIN.\n",
    "AND IN A CAR. AND IN A TREE.\n",
    "THEY ARE SO GOOD, SO GOOD, YOU SEE!\n",
    "SO I WILL EAT THEM IN A BOX.\n",
    "AND I WILL EAT THEM WITH A FOX.\n",
    "AND I WILL EAT THEM IN A HOUSE.\n",
    "AND I WILL EAT THEM WITH A MOUSE.\n",
    "AND I WILL EAT THEM HERE AND THERE.\n",
    "SAY! I WILL EAT THEM ANYWHERE!\n",
    "I DO SO LIKE GREEN EGGS AND HAM!\n",
    "THANK YOU! THANK YOU, SAM I AM.\n",
    "'''"
   ]
  },
  {
   "cell_type": "code",
   "execution_count": null,
   "metadata": {},
   "outputs": [],
   "source": [
    "# Here I clean it up a bit\n",
    "seuss = seuss.replace(\"\\n\",\"\").replace(\",\",\" \").replace('\"',\"\").replace(\"(\",\"\").replace(\")\",\"\")\n",
    "seuss = seuss.replace(\".\",\". \").replace(\"!\",\"! \").replace(\"?\",\"? \")"
   ]
  },
  {
   "cell_type": "code",
   "execution_count": null,
   "metadata": {},
   "outputs": [],
   "source": [
    "# The clean version\n",
    "print(seuss)"
   ]
  },
  {
   "cell_type": "code",
   "execution_count": null,
   "metadata": {},
   "outputs": [],
   "source": [
    "# gensim only requires sequences of words in a sentence\n",
    "from nltk.tokenize import sent_tokenize\n",
    "from nltk import word_tokenize"
   ]
  },
  {
   "cell_type": "code",
   "execution_count": null,
   "metadata": {},
   "outputs": [],
   "source": [
    "# let's give them just that\n",
    "sentences = [word_tokenize(sent) for sent in sent_tokenize(seuss)]"
   ]
  },
  {
   "cell_type": "code",
   "execution_count": null,
   "metadata": {},
   "outputs": [],
   "source": [
    "# You train a Word2Vec model in gensim with\n",
    "# Word2Vec\n",
    "from gensim.models import Word2Vec"
   ]
  },
  {
   "cell_type": "markdown",
   "metadata": {},
   "source": [
    "### Parameters\n",
    "\n",
    "* `min_count` = int - Ignores all words with total absolute frequency lower than this - (2, 100)\n",
    "* `window` = int - The maximum distance between the current and predicted word within a sentence. E.g. window words on the left and window words on the left of our target - (2, 10)\n",
    "* `size` = int - Dimensionality of the feature vectors. - (50, 300)\n",
    "* `sample` = float - The threshold for configuring which higher-frequency words are randomly downsampled. Highly influencial. - (0, 1e-5)\n",
    "* `alpha` = float - The initial learning rate - (0.01, 0.05)\n",
    "* `min_alpha` = float - Learning rate will linearly drop to min_alpha as training progresses. To set it: alpha - (min_alpha * epochs) ~ 0.00\n",
    "* `negative` = int - If > 0, negative sampling will be used, the int for negative specifies how many \"noise words\" should be drown. If set to 0, no negative sampling is used. - (5, 20)\n",
    "* `workers` = int - Use these many worker threads to train the model (=faster training with multicore machines)"
   ]
  },
  {
   "cell_type": "code",
   "execution_count": null,
   "metadata": {},
   "outputs": [],
   "source": [
    "# This line makes a model\n",
    "# You first put in your sentences\n",
    "# then you can OPTIONALLY specify a number of parameters\n",
    "# vector_size is the size of the hidden layer\n",
    "# window is the size of the skip-gram window\n",
    "# min_count sets a minimum number of times that a word has to appear\n",
    "model = Word2Vec(sentences = sentences,\n",
    "                     size=10,  \n",
    "                     window=1, \n",
    "                     min_count=1)"
   ]
  },
  {
   "cell_type": "code",
   "execution_count": null,
   "metadata": {},
   "outputs": [],
   "source": [
    "model.wv['SAM']"
   ]
  },
  {
   "cell_type": "code",
   "execution_count": null,
   "metadata": {},
   "outputs": [],
   "source": [
    "model.wv['EGGS']"
   ]
  },
  {
   "cell_type": "code",
   "execution_count": null,
   "metadata": {},
   "outputs": [],
   "source": [
    "model.wv.most_similar(['HAM'])"
   ]
  },
  {
   "cell_type": "markdown",
   "metadata": {},
   "source": [
    "Since we spent so much time and energy training this model we may want to save it."
   ]
  },
  {
   "cell_type": "code",
   "execution_count": null,
   "metadata": {},
   "outputs": [],
   "source": [
    "model.save(\"green_eggs_and_ham.model\")"
   ]
  },
  {
   "cell_type": "markdown",
   "metadata": {},
   "source": [
    "We can load it later."
   ]
  },
  {
   "cell_type": "code",
   "execution_count": null,
   "metadata": {},
   "outputs": [],
   "source": [
    "model = Word2Vec.load(\"green_eggs_and_ham.model\")"
   ]
  },
  {
   "cell_type": "markdown",
   "metadata": {},
   "source": [
    "Now when training an actual model you'll likely want to know all the bells and whistles for tuning the model. You can find all that and more here: https://radimrehurek.com/gensim/models/word2vec.html?highlight=word2vec#module-gensim.models.word2vec\n",
    "\n",
    "## An Improvement on Word2Vec\n",
    "A nice improvement on Word2Vec was made by Facebook researchers (including Mikolov) called, fasttext, https://arxiv.org/abs/1607.04606.\n",
    "\n",
    "The key idea to the improvement was to replace words and phrases as the base unit input layer with partial character -grams of words. For example instead of \"apples\" they used things like \"app\", \"ppl\", \"ple\", and \"les\".\n",
    "\n",
    "This is also implementable with gensim. Here is the documentation, https://radimrehurek.com/gensim_3.8.3/models/fasttext.html.\n",
    "\n",
    "Below I'll demonstrate Facebook's pretrained model trained on Wikipedia. Note don't try and run this code right now because it takes a long time to download the model. Just watch the code, and if you're interested in the model you can always play with it later."
   ]
  },
  {
   "cell_type": "code",
   "execution_count": null,
   "metadata": {},
   "outputs": [],
   "source": [
    "ft = api.load('fasttext-wiki-news-subwords-300')"
   ]
  },
  {
   "cell_type": "code",
   "execution_count": null,
   "metadata": {},
   "outputs": [],
   "source": [
    "## Let's look at the top 20 words\n",
    "for i in range(20):\n",
    "    print(ft.index_to_key[i])"
   ]
  },
  {
   "cell_type": "code",
   "execution_count": null,
   "metadata": {},
   "outputs": [],
   "source": [
    "## And just to note we can use this model in exactly\n",
    "## the same way as Word2Vec\n",
    "ft.similar_by_word(\"apple\",topn=20)"
   ]
  },
  {
   "cell_type": "code",
   "execution_count": null,
   "metadata": {},
   "outputs": [],
   "source": [
    "ft.similar_by_word(\"ppl\",topn=20)"
   ]
  },
  {
   "cell_type": "code",
   "execution_count": null,
   "metadata": {},
   "outputs": [],
   "source": [
    "test = ft['king'] - ft['man'] + ft['woman']\n",
    "ft.similar_by_vector(test,topn=5)"
   ]
  },
  {
   "cell_type": "markdown",
   "metadata": {},
   "source": [
    "That's it for this notebook. I hope you enjoyed playing around with `gensim`'s word embedding models!"
   ]
  },
  {
   "cell_type": "code",
   "execution_count": null,
   "metadata": {},
   "outputs": [],
   "source": []
  }
 ],
 "metadata": {
  "kernelspec": {
   "display_name": "Python 3",
   "language": "python",
   "name": "python3"
  },
  "language_info": {
   "codemirror_mode": {
    "name": "ipython",
    "version": 3
   },
   "file_extension": ".py",
   "mimetype": "text/x-python",
   "name": "python",
   "nbconvert_exporter": "python",
   "pygments_lexer": "ipython3",
   "version": "3.8.5"
  }
 },
 "nbformat": 4,
 "nbformat_minor": 4
}
