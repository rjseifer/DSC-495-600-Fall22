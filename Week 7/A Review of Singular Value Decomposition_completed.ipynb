{
 "cells": [
  {
   "cell_type": "markdown",
   "metadata": {},
   "source": [
    "[A Review of Singular Value Decomposition](#A-Review-of-Singular-Value-Decomposition)\n",
    "\n",
    "1. [SVD](#SVD)  \n",
    "2. [Performing SVD Using numpy](#Performing-SVD-Using-numpy)     \n",
    "3. [SVD's Relationship to $A^TA$](#SVD's-Relationship-to-$A^TA$)   \n",
    "4. [Dimensionality Reduction](#Dimensionality-Reduction)   \n",
    "5. [Dimensionality Reduction - Reducing the Number of Columns](#Dimensionality-Reduction---Reducing-the-Number-Columns)   \n",
    "\n",
    "\n",
    "\n",
    "# A Review of Singular Value Decomposition\n",
    "\n",
    "Before moving on to Latent Semantic Analysis I want to take a moment to review the workhorse behind that algorithm, Singular Value Decompositions (SVD). The SVD is a way to decompose a matrix that is incredibly valuable in data science and machine learning. Even if you've haven't heard of the SVD before, you've almost certainly used it. Anytime you use `sklearn`'s `PCA` you're running your data matrix through an SVD decomposition! Let's get going and dive into SVD.\n",
    "\n",
    "## SVD\n",
    "Suppose you have an $m\\times n$ real matrix, $A$. Then it is a fact that:\n",
    "\n",
    "$$\n",
    "A = U\\Sigma^TV^T\n",
    "$$\n",
    "\n",
    "where $U$ is an $m \\times m$ orthogonal real matrix ($UU^T = I$), $V$ is an $n \\times n$ orthogonal real matrix and $\\Sigma$ is an $m\\times n$ diagonal matrix of the same rank as $A$. The entries of $\\Sigma$ are known as the singular values of $A$ and are denoted as $\\sigma_i$ for $i = 1, \\dots,p$, $p= \\min{m,n}$. It is standard to let $\\sigma_1\\geq \\sigma_2\\geq \\cdots \\geq \\sigma_p$. The singular values of $A$ are the square roots of the nonzero eigenvalues of $A^TA$ and $AA^T$.\n",
    "\n",
    "The columns of $U$ are known as the left singular vectors of $A$ and the columns of $V$ are known as the right singular vectors of $A$.\n",
    "\n",
    "## Performing SVD Using numpy\n",
    "\n"
   ]
  },
  {
   "cell_type": "code",
   "execution_count": 1,
   "metadata": {},
   "outputs": [],
   "source": [
    "# import the package\n",
    "import numpy as np\n",
    "\n",
    "np.random.seed(440)"
   ]
  },
  {
   "cell_type": "code",
   "execution_count": 2,
   "metadata": {},
   "outputs": [],
   "source": [
    "# Make a random matrix\n",
    "A = np.random.randn(100,4)"
   ]
  },
  {
   "cell_type": "code",
   "execution_count": 3,
   "metadata": {},
   "outputs": [],
   "source": [
    "# np.linalg.svd returns the svd decomposition of a matrix\n",
    "# Note that linalg.svd returns V transpose not V itself\n",
    "U,S,Vt = np.linalg.svd(A)"
   ]
  },
  {
   "cell_type": "code",
   "execution_count": 4,
   "metadata": {},
   "outputs": [],
   "source": [
    "V = Vt.transpose()"
   ]
  },
  {
   "cell_type": "code",
   "execution_count": 5,
   "metadata": {},
   "outputs": [
    {
     "data": {
      "text/plain": [
       "(100, 100)"
      ]
     },
     "execution_count": 5,
     "metadata": {},
     "output_type": "execute_result"
    }
   ],
   "source": [
    "np.shape(U)"
   ]
  },
  {
   "cell_type": "code",
   "execution_count": 6,
   "metadata": {},
   "outputs": [
    {
     "data": {
      "text/plain": [
       "array([[ 0.05002525, -0.21853099,  0.06034972, ..., -0.02804724,\n",
       "         0.09004994, -0.06492556],\n",
       "       [-0.06531026,  0.14653637,  0.00867559, ..., -0.02274976,\n",
       "         0.01327923,  0.20871252],\n",
       "       [-0.0927834 ,  0.02544625,  0.1902059 , ..., -0.14423587,\n",
       "        -0.00892435,  0.07629933],\n",
       "       ...,\n",
       "       [-0.02438868,  0.04858554,  0.16979483, ...,  0.97124306,\n",
       "         0.02040163,  0.01618576],\n",
       "       [-0.11071266,  0.06340291, -0.14022391, ...,  0.01438983,\n",
       "         0.96715306, -0.00888423],\n",
       "       [-0.0606144 , -0.18896709, -0.07498754, ...,  0.02069631,\n",
       "        -0.00612093,  0.94749458]])"
      ]
     },
     "execution_count": 6,
     "metadata": {},
     "output_type": "execute_result"
    }
   ],
   "source": [
    "U"
   ]
  },
  {
   "cell_type": "code",
   "execution_count": 7,
   "metadata": {},
   "outputs": [
    {
     "data": {
      "text/plain": [
       "(4,)"
      ]
     },
     "execution_count": 7,
     "metadata": {},
     "output_type": "execute_result"
    }
   ],
   "source": [
    "np.shape(S)"
   ]
  },
  {
   "cell_type": "code",
   "execution_count": 8,
   "metadata": {},
   "outputs": [
    {
     "data": {
      "text/plain": [
       "array([11.89845699,  9.91852466,  9.40770237,  7.88849121])"
      ]
     },
     "execution_count": 8,
     "metadata": {},
     "output_type": "execute_result"
    }
   ],
   "source": [
    "S"
   ]
  },
  {
   "cell_type": "code",
   "execution_count": 9,
   "metadata": {},
   "outputs": [
    {
     "data": {
      "text/plain": [
       "(4, 4)"
      ]
     },
     "execution_count": 9,
     "metadata": {},
     "output_type": "execute_result"
    }
   ],
   "source": [
    "np.shape(V)"
   ]
  },
  {
   "cell_type": "markdown",
   "metadata": {},
   "source": [
    "## SVD's Relationship to $A^TA$\n",
    "SVD has a nice relationship with $A^TA$.\n",
    "\n",
    "If the SVD of $A$ is $U\\Sigma^TV^T$ then:\n",
    "\n",
    "$$\n",
    "A^TA = (V\\Sigma^TU^T)(U\\Sigma V^T)= V\\Sigma^2V^T\n",
    "$$\n",
    "\n",
    "\n",
    "because $U$ is an orthogonal matrix, and thus $\\Sigma^2$ holds the eigenvalues of $A^TA$ and $V$ holds the corresponding eigenvectors.\n",
    "\n",
    "Similarly:\n",
    "\n",
    "$$\n",
    "AA^T = U\\Sigma^2U^T\n",
    "$$\n",
    "\n",
    "and thus $\\Sigma^2$ also holds the eigenvalues of $AA^T$and $U$ holds the corresponding eigenvectors.\n",
    "\n",
    "### Note on PCA\n",
    "If $A$ is a data matrix with centered columns then the above fact shows SVD's relationship to principal components analysis (PCA).\n",
    "\n",
    "## Dimensionality Reduction\n",
    "SVD is incredibly useful for dimensionality reduction. When I was preparing for this notebook I easily got confused because there are a couple different things people mean by dimensionality reduction when it comes to SVD. Let's first touch on the data compression interpretation.\n",
    "\n",
    "### Data Compression\n",
    "Consider the following theorem due to Eckart and Young.\n",
    "\n",
    "Suppose the SVD of $A$ is as described above. If $k<r = rank(A)$ and $A_k= \\sum_{i=1}^{k}\\sigma_iu_iv_i^T$, then\n",
    "\n",
    "$$\n",
    "\\min_{rank(B)=k}||A-B||_2 = |||A-A_k||_2 = \\sigma{k+1}\n",
    "$$\n",
    "\n",
    "\n",
    "_Fun fact: You can use this to compute the explained variance ratio for PCA_."
   ]
  },
  {
   "cell_type": "code",
   "execution_count": 10,
   "metadata": {},
   "outputs": [
    {
     "name": "stdout",
     "output_type": "stream",
     "text": [
      "9.918524656488632\n",
      "9.918524656488636\n"
     ]
    }
   ],
   "source": [
    "# Let's \"test\" this out with our matrix decomposition!\n",
    "test = S[0]*U[:,0].reshape(-1,1).dot(V[:,0].reshape(-1,1).transpose())\n",
    "\n",
    "print(np.linalg.norm(test - A, 2))\n",
    "print(S[1])"
   ]
  },
  {
   "cell_type": "code",
   "execution_count": 11,
   "metadata": {},
   "outputs": [
    {
     "name": "stdout",
     "output_type": "stream",
     "text": [
      "9.407702367006781\n"
     ]
    }
   ],
   "source": [
    "print(S[2])"
   ]
  },
  {
   "cell_type": "markdown",
   "metadata": {},
   "source": [
    "Now this is where I got confused. When I think of dimensionality reduction, I don't picture this. If $A$ is a data matrix, $A_k$ has the same dimensionality as $A$  (same number of columns). However, it is data reduction in the sense that I can compress the amount of data I need to store for a decent approximation of $A$ by using a lower rank matrix. This approach is used in a lot of fields. One example is image compression http://www.math.utah.edu/~goller/F15_M2270/BradyMathews_SVDImage.pdf.\n",
    "\n",
    "## Dimensionality Reduction - Reducing the Number of Columns\n",
    "Let's see how we can perform dimensionality reduction in the way that we usually think about it in data science by considering the sample matrix we've been using in this notebook.\n",
    "\n",
    "Now suppose we want to reduce our example $A$ from a $100 \\times 4$  to a $100 \\times 2$ matrix. We can do this by multiplying the first $2$ columns of $U$ with the upper left $2 \\times 2$ block of $\\Sigma$, i.e. we reduce the dimensions of $A$ by calculating $U_2\\times V_2$."
   ]
  },
  {
   "cell_type": "code",
   "execution_count": 12,
   "metadata": {},
   "outputs": [],
   "source": [
    "Sigma = np.zeros(np.shape(A))\n",
    "for i in range(len(S)):\n",
    "    Sigma[i,i] = S[i]"
   ]
  },
  {
   "cell_type": "code",
   "execution_count": 13,
   "metadata": {},
   "outputs": [
    {
     "data": {
      "text/plain": [
       "array([[ 0.59522334, -2.167505  ],\n",
       "       [-0.7770913 ,  1.45342457],\n",
       "       [-1.10397927,  0.25238929],\n",
       "       [-2.02259354, -0.09840806],\n",
       "       [-0.24364657,  0.309503  ],\n",
       "       [-0.22183936,  1.02617724],\n",
       "       [-0.08698947, -0.10528557],\n",
       "       [ 1.60409758, -0.49764038],\n",
       "       [-0.9538455 ,  2.15436326],\n",
       "       [ 0.11765662,  1.08212882],\n",
       "       [ 0.23696583, -1.5598674 ],\n",
       "       [ 1.4843431 ,  1.10806291],\n",
       "       [-1.20535429, -1.83027665],\n",
       "       [ 0.64046282,  0.926068  ],\n",
       "       [-0.44976983,  0.50797085],\n",
       "       [-1.39870551, -0.07690773],\n",
       "       [ 0.663437  ,  1.70818103],\n",
       "       [ 0.18866595,  1.75661591],\n",
       "       [-1.28170834, -0.49639267],\n",
       "       [ 1.10784759, -0.84294297],\n",
       "       [-1.17973897,  0.35227067],\n",
       "       [ 0.50294366,  0.4702022 ],\n",
       "       [-0.10044903, -1.62529895],\n",
       "       [-0.17302177,  0.1979349 ],\n",
       "       [ 1.7060943 , -0.03834834],\n",
       "       [-0.95074556, -0.30227541],\n",
       "       [ 1.74460052,  1.12033494],\n",
       "       [-0.4356569 , -1.78645691],\n",
       "       [ 0.7891667 ,  0.21468818],\n",
       "       [-0.45569883, -0.86987299],\n",
       "       [ 1.20860448, -0.49757558],\n",
       "       [-0.99819727,  0.14415022],\n",
       "       [ 0.16025621,  1.36187384],\n",
       "       [ 0.99346097,  0.59430582],\n",
       "       [-1.18133488, -0.92105164],\n",
       "       [-0.52040563,  1.2989071 ],\n",
       "       [-1.74297073,  1.36348645],\n",
       "       [-0.7117998 , -2.45855837],\n",
       "       [ 0.03298314, -0.45803782],\n",
       "       [-3.01525063,  0.20657444],\n",
       "       [ 0.70359964, -1.19730099],\n",
       "       [ 0.44082657,  1.1957343 ],\n",
       "       [-0.02176032, -0.47686064],\n",
       "       [ 1.08663996, -1.11932825],\n",
       "       [-1.40140867,  0.14199187],\n",
       "       [-0.25765954,  0.59434413],\n",
       "       [-1.34096685,  0.94618975],\n",
       "       [ 1.53942066, -0.63424883],\n",
       "       [ 0.35952092,  0.41219581],\n",
       "       [ 2.04776517,  0.10344585],\n",
       "       [ 1.17804752, -0.06684096],\n",
       "       [-0.75126648, -0.33505393],\n",
       "       [-1.81623434, -1.15588874],\n",
       "       [ 0.0759105 ,  0.68378424],\n",
       "       [ 3.057606  , -1.40351627],\n",
       "       [ 0.52593896, -0.17299987],\n",
       "       [ 1.71478768, -0.60976185],\n",
       "       [ 0.55463141,  0.38878671],\n",
       "       [-0.6647058 , -0.1835744 ],\n",
       "       [ 0.24982243,  1.01761609],\n",
       "       [ 2.37720872,  0.39683815],\n",
       "       [ 0.2521188 , -2.22135122],\n",
       "       [-0.7738287 ,  0.28321109],\n",
       "       [ 2.49232183,  0.20562001],\n",
       "       [-0.63483174, -0.83410127],\n",
       "       [-1.23263758, -0.7142438 ],\n",
       "       [ 0.36741126,  0.81936552],\n",
       "       [-0.72168397, -0.1987714 ],\n",
       "       [ 1.38794056, -0.25034207],\n",
       "       [-1.22382139,  0.43685062],\n",
       "       [ 0.05559183, -0.23121924],\n",
       "       [ 0.84599315,  0.1755569 ],\n",
       "       [-1.38086284, -0.61916433],\n",
       "       [ 0.79967181,  0.88340591],\n",
       "       [ 1.28061171,  0.24938047],\n",
       "       [-0.7631939 ,  0.61827334],\n",
       "       [-2.88062107,  0.15381789],\n",
       "       [-0.49495438, -2.53482708],\n",
       "       [-0.09886824,  0.90094208],\n",
       "       [ 2.93179745, -0.1021717 ],\n",
       "       [ 0.53906876,  0.35750353],\n",
       "       [ 0.39814272,  0.22546772],\n",
       "       [-0.91567876, -0.77390566],\n",
       "       [ 1.16466906,  0.10274535],\n",
       "       [-0.91220928, -0.87274225],\n",
       "       [ 0.64574637, -0.5989814 ],\n",
       "       [-0.18775711,  0.88703767],\n",
       "       [ 2.24682944,  0.24164618],\n",
       "       [ 1.35381025,  0.54305362],\n",
       "       [ 0.50263108, -2.26099411],\n",
       "       [ 1.3568044 , -1.24573807],\n",
       "       [-0.47666534,  0.35685787],\n",
       "       [ 1.82625832, -0.27223026],\n",
       "       [-0.25131984, -0.01325727],\n",
       "       [-1.36291378,  1.22986584],\n",
       "       [ 1.31131175,  1.66095224],\n",
       "       [-0.3065282 , -1.12355009],\n",
       "       [-0.29018771,  0.48189688],\n",
       "       [-1.31730979,  0.62886335],\n",
       "       [-0.72121785, -1.87427475]])"
      ]
     },
     "execution_count": 13,
     "metadata": {},
     "output_type": "execute_result"
    }
   ],
   "source": [
    "U[:,:2].dot(Sigma[:2,:2])"
   ]
  },
  {
   "cell_type": "markdown",
   "metadata": {},
   "source": [
    "You can do this in general by keeping the first $k$ columns of $U$ and the upper right $k\\times k$ block of $\\Sigma$, for $k \\leq rank{A}$.\n",
    "\n",
    "### Alternatively\n",
    "Another way to reduce $A$ to a lower dimensional matrix using SVD is to use `sklearn`'s `TruncatedSVD` object. While we can do this by hand using `numpy`, `TruncatedSVD` is more efficient."
   ]
  },
  {
   "cell_type": "code",
   "execution_count": 14,
   "metadata": {},
   "outputs": [],
   "source": [
    "from sklearn.decomposition import TruncatedSVD"
   ]
  },
  {
   "cell_type": "code",
   "execution_count": 15,
   "metadata": {},
   "outputs": [],
   "source": [
    "trunc_svd = TruncatedSVD()"
   ]
  },
  {
   "cell_type": "code",
   "execution_count": 16,
   "metadata": {},
   "outputs": [
    {
     "data": {
      "text/plain": [
       "array([[ 0.59522334,  2.167505  ],\n",
       "       [-0.7770913 , -1.45342457],\n",
       "       [-1.10397927, -0.25238929],\n",
       "       [-2.02259354,  0.09840806],\n",
       "       [-0.24364657, -0.309503  ],\n",
       "       [-0.22183936, -1.02617724],\n",
       "       [-0.08698947,  0.10528557],\n",
       "       [ 1.60409758,  0.49764038],\n",
       "       [-0.9538455 , -2.15436326],\n",
       "       [ 0.11765662, -1.08212882],\n",
       "       [ 0.23696583,  1.5598674 ],\n",
       "       [ 1.4843431 , -1.10806291],\n",
       "       [-1.20535429,  1.83027665],\n",
       "       [ 0.64046282, -0.926068  ],\n",
       "       [-0.44976983, -0.50797085],\n",
       "       [-1.39870551,  0.07690773],\n",
       "       [ 0.663437  , -1.70818103],\n",
       "       [ 0.18866595, -1.75661591],\n",
       "       [-1.28170834,  0.49639267],\n",
       "       [ 1.10784759,  0.84294297],\n",
       "       [-1.17973897, -0.35227067],\n",
       "       [ 0.50294366, -0.4702022 ],\n",
       "       [-0.10044903,  1.62529895],\n",
       "       [-0.17302177, -0.1979349 ],\n",
       "       [ 1.7060943 ,  0.03834834],\n",
       "       [-0.95074556,  0.30227541],\n",
       "       [ 1.74460052, -1.12033494],\n",
       "       [-0.4356569 ,  1.78645691],\n",
       "       [ 0.7891667 , -0.21468818],\n",
       "       [-0.45569883,  0.86987299],\n",
       "       [ 1.20860448,  0.49757558],\n",
       "       [-0.99819727, -0.14415022],\n",
       "       [ 0.16025621, -1.36187384],\n",
       "       [ 0.99346097, -0.59430582],\n",
       "       [-1.18133488,  0.92105164],\n",
       "       [-0.52040563, -1.2989071 ],\n",
       "       [-1.74297073, -1.36348645],\n",
       "       [-0.7117998 ,  2.45855837],\n",
       "       [ 0.03298314,  0.45803782],\n",
       "       [-3.01525063, -0.20657444],\n",
       "       [ 0.70359964,  1.19730099],\n",
       "       [ 0.44082657, -1.1957343 ],\n",
       "       [-0.02176032,  0.47686064],\n",
       "       [ 1.08663996,  1.11932825],\n",
       "       [-1.40140867, -0.14199187],\n",
       "       [-0.25765954, -0.59434413],\n",
       "       [-1.34096685, -0.94618975],\n",
       "       [ 1.53942066,  0.63424883],\n",
       "       [ 0.35952092, -0.41219581],\n",
       "       [ 2.04776517, -0.10344585],\n",
       "       [ 1.17804752,  0.06684096],\n",
       "       [-0.75126648,  0.33505393],\n",
       "       [-1.81623434,  1.15588874],\n",
       "       [ 0.0759105 , -0.68378424],\n",
       "       [ 3.057606  ,  1.40351627],\n",
       "       [ 0.52593896,  0.17299987],\n",
       "       [ 1.71478768,  0.60976185],\n",
       "       [ 0.55463141, -0.38878671],\n",
       "       [-0.6647058 ,  0.1835744 ],\n",
       "       [ 0.24982243, -1.01761609],\n",
       "       [ 2.37720872, -0.39683815],\n",
       "       [ 0.2521188 ,  2.22135122],\n",
       "       [-0.7738287 , -0.28321109],\n",
       "       [ 2.49232183, -0.20562001],\n",
       "       [-0.63483174,  0.83410127],\n",
       "       [-1.23263758,  0.7142438 ],\n",
       "       [ 0.36741126, -0.81936552],\n",
       "       [-0.72168397,  0.1987714 ],\n",
       "       [ 1.38794056,  0.25034207],\n",
       "       [-1.22382139, -0.43685062],\n",
       "       [ 0.05559183,  0.23121924],\n",
       "       [ 0.84599315, -0.1755569 ],\n",
       "       [-1.38086284,  0.61916433],\n",
       "       [ 0.79967181, -0.88340591],\n",
       "       [ 1.28061171, -0.24938047],\n",
       "       [-0.7631939 , -0.61827334],\n",
       "       [-2.88062107, -0.15381789],\n",
       "       [-0.49495438,  2.53482708],\n",
       "       [-0.09886824, -0.90094208],\n",
       "       [ 2.93179745,  0.1021717 ],\n",
       "       [ 0.53906876, -0.35750353],\n",
       "       [ 0.39814272, -0.22546772],\n",
       "       [-0.91567876,  0.77390566],\n",
       "       [ 1.16466906, -0.10274535],\n",
       "       [-0.91220928,  0.87274225],\n",
       "       [ 0.64574637,  0.5989814 ],\n",
       "       [-0.18775711, -0.88703767],\n",
       "       [ 2.24682944, -0.24164618],\n",
       "       [ 1.35381025, -0.54305362],\n",
       "       [ 0.50263108,  2.26099411],\n",
       "       [ 1.3568044 ,  1.24573807],\n",
       "       [-0.47666534, -0.35685787],\n",
       "       [ 1.82625832,  0.27223026],\n",
       "       [-0.25131984,  0.01325727],\n",
       "       [-1.36291378, -1.22986584],\n",
       "       [ 1.31131175, -1.66095224],\n",
       "       [-0.3065282 ,  1.12355009],\n",
       "       [-0.29018771, -0.48189688],\n",
       "       [-1.31730979, -0.62886335],\n",
       "       [-0.72121785,  1.87427475]])"
      ]
     },
     "execution_count": 16,
     "metadata": {},
     "output_type": "execute_result"
    }
   ],
   "source": [
    "trunc_svd.fit_transform(A)"
   ]
  },
  {
   "cell_type": "markdown",
   "metadata": {},
   "source": [
    "### Sign, Sign Everywhere a Sign\n",
    "You may notice that the signs of the two computations are opposite. That happens sometimes as the sign is determined by a random process in the code behind the scenes. This is fine in principle since the vectors will be the same but flipped.\n",
    "\n",
    "### But Why?\n",
    "So why are we doing this? That's a good question. I've tried to search around and figure out why we take this approach for dimensionality reduction with SVD since we're seemingly leaving the  matrix out to dry. This is the best explanation I can come up with.\n",
    "\n",
    "It holds that:\n",
    "\n",
    "$$\n",
    "AV = U\\Sigma.\n",
    "$$\n",
    "\n",
    "For the reduction of  to  dimensions:\n",
    "\n",
    "$$\n",
    "AV_k = U_k\\Sigma_k.\n",
    "$$\n",
    "\n",
    "The left hand side results in a matrix of the scalar projections of each observation from $A$ onto each column of $V_k$ (i.e. going from $n$ columns for each observation to $k$ columns for each observation). In the case of a scaled and cenetered data matrix, $A$, this is precisely the principal component values."
   ]
  },
  {
   "cell_type": "code",
   "execution_count": 17,
   "metadata": {},
   "outputs": [],
   "source": [
    "# We can check this like so\n",
    "svd_test = trunc_svd.fit_transform(A - np.mean(A,axis=0)).round(4)"
   ]
  },
  {
   "cell_type": "code",
   "execution_count": 18,
   "metadata": {},
   "outputs": [],
   "source": [
    "from sklearn.decomposition import PCA"
   ]
  },
  {
   "cell_type": "code",
   "execution_count": 19,
   "metadata": {},
   "outputs": [],
   "source": [
    "pca = PCA()\n",
    "\n",
    "pca_test = pca.fit_transform(A)[:,:2].round(4)"
   ]
  },
  {
   "cell_type": "code",
   "execution_count": 20,
   "metadata": {},
   "outputs": [
    {
     "data": {
      "text/plain": [
       "array([[ True,  True],\n",
       "       [ True,  True],\n",
       "       [ True,  True],\n",
       "       [ True,  True],\n",
       "       [ True,  True],\n",
       "       [ True,  True],\n",
       "       [ True,  True],\n",
       "       [ True,  True],\n",
       "       [ True,  True],\n",
       "       [ True,  True],\n",
       "       [ True,  True],\n",
       "       [ True,  True],\n",
       "       [ True,  True],\n",
       "       [ True,  True],\n",
       "       [ True,  True],\n",
       "       [ True,  True],\n",
       "       [ True,  True],\n",
       "       [ True,  True],\n",
       "       [ True,  True],\n",
       "       [ True,  True],\n",
       "       [ True,  True],\n",
       "       [ True,  True],\n",
       "       [ True,  True],\n",
       "       [ True,  True],\n",
       "       [ True,  True],\n",
       "       [ True,  True],\n",
       "       [ True,  True],\n",
       "       [ True,  True],\n",
       "       [ True,  True],\n",
       "       [ True,  True],\n",
       "       [ True,  True],\n",
       "       [ True,  True],\n",
       "       [ True,  True],\n",
       "       [ True,  True],\n",
       "       [ True,  True],\n",
       "       [ True,  True],\n",
       "       [ True,  True],\n",
       "       [ True,  True],\n",
       "       [ True,  True],\n",
       "       [ True,  True],\n",
       "       [ True,  True],\n",
       "       [ True,  True],\n",
       "       [ True,  True],\n",
       "       [ True,  True],\n",
       "       [ True,  True],\n",
       "       [ True,  True],\n",
       "       [ True,  True],\n",
       "       [ True,  True],\n",
       "       [ True,  True],\n",
       "       [ True,  True],\n",
       "       [ True,  True],\n",
       "       [ True,  True],\n",
       "       [ True,  True],\n",
       "       [ True,  True],\n",
       "       [ True,  True],\n",
       "       [ True,  True],\n",
       "       [ True,  True],\n",
       "       [ True,  True],\n",
       "       [ True,  True],\n",
       "       [ True,  True],\n",
       "       [ True,  True],\n",
       "       [ True,  True],\n",
       "       [ True,  True],\n",
       "       [ True,  True],\n",
       "       [ True,  True],\n",
       "       [ True,  True],\n",
       "       [ True,  True],\n",
       "       [ True,  True],\n",
       "       [ True,  True],\n",
       "       [ True,  True],\n",
       "       [ True,  True],\n",
       "       [ True,  True],\n",
       "       [ True,  True],\n",
       "       [ True,  True],\n",
       "       [ True,  True],\n",
       "       [ True,  True],\n",
       "       [ True,  True],\n",
       "       [ True,  True],\n",
       "       [ True,  True],\n",
       "       [ True,  True],\n",
       "       [ True,  True],\n",
       "       [ True,  True],\n",
       "       [ True,  True],\n",
       "       [ True,  True],\n",
       "       [ True,  True],\n",
       "       [ True,  True],\n",
       "       [ True,  True],\n",
       "       [ True,  True],\n",
       "       [ True,  True],\n",
       "       [ True,  True],\n",
       "       [ True,  True],\n",
       "       [ True,  True],\n",
       "       [ True,  True],\n",
       "       [ True,  True],\n",
       "       [ True,  True],\n",
       "       [ True,  True],\n",
       "       [ True,  True],\n",
       "       [ True,  True],\n",
       "       [ True,  True],\n",
       "       [ True,  True]])"
      ]
     },
     "execution_count": 20,
     "metadata": {},
     "output_type": "execute_result"
    }
   ],
   "source": [
    "pca_test == svd_test"
   ]
  },
  {
   "cell_type": "markdown",
   "metadata": {},
   "source": [
    "As a continuation of why we're looking at $U\\Sigma$ for projecting into a lower dimensional space, it has to do with the typical organization of a data matrix. Typically, the rows of a data matrix correspond to individual observations, while the columns represent independent variables.\n",
    "\n",
    "The right singular vectors (columns of $V$) represent the orthogonal directions in the original dataspace that best represent the original data in that lower dimension, i.e. are closest to $A$ in $2$-norm.\n",
    "\n",
    "So when we project onto the first $k$ columns of $V$ (compute $U_k\\Sigma_k$, we're projecting into the $k$-dimensional space that most closely approximates $A$ in $2$-norm.\n",
    "\n",
    "### Ahh, How Refreshing\n",
    "Now that we've refreshed ourselves about SVD let's return to semantic analysis. If you'd like to read more about SVD check out the References Folder."
   ]
  },
  {
   "cell_type": "code",
   "execution_count": null,
   "metadata": {},
   "outputs": [],
   "source": []
  }
 ],
 "metadata": {
  "kernelspec": {
   "display_name": "Python 3",
   "language": "python",
   "name": "python3"
  },
  "language_info": {
   "codemirror_mode": {
    "name": "ipython",
    "version": 3
   },
   "file_extension": ".py",
   "mimetype": "text/x-python",
   "name": "python",
   "nbconvert_exporter": "python",
   "pygments_lexer": "ipython3",
   "version": "3.8.5"
  }
 },
 "nbformat": 4,
 "nbformat_minor": 4
}
